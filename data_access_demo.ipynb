{
 "cells": [
  {
   "cell_type": "markdown",
   "id": "826655f1-f093-4491-9631-db3a3d872cbc",
   "metadata": {
    "execution": {
     "iopub.execute_input": "2023-04-19T04:32:13.353992Z",
     "iopub.status.busy": "2023-04-19T04:32:13.353762Z",
     "iopub.status.idle": "2023-04-19T04:32:13.356535Z",
     "shell.execute_reply": "2023-04-19T04:32:13.356105Z",
     "shell.execute_reply.started": "2023-04-19T04:32:13.353976Z"
    }
   },
   "source": [
    "# Pre-bootcamp exercises: accessing data products via butler\n",
    "\n",
    "**Description:** Demonstrate how to generate science performance diagnostic plots and metrics with the [analysis_tools](https://github.com/lsst/analysis_tools) package using a small test dataset from HSC, [rc2_subset](https://github.com/lsst/rc2_subset).\n",
    "\n",
    "**Contact authors:** Keith Bechtol, Nate Lust\n",
    "\n",
    "**Last verified to run:** 2023-05-18\n",
    "\n",
    "**LSST Science Piplines version:** w_2023_20\n",
    "\n",
    "**Container Size:** Medium (or larger)\n",
    "\n",
    "**Location:** This notebook points to files on the S3DF cluster at the USDF. Update paths accordingly if you are running elsewhere.\n",
    "\n",
    "**Skills:** \n",
    "- Load source and object tables using the Butler.\n",
    "- Generate a science performance diagnostic plot and corresponding metric values interactively in a notebook and as part of a pipeline (simple pipeline executor). \n",
    "- Adjust the configuration used to produce these diagnostics. \n",
    "- Retrieve persisted plots and metrics with the Bulter. \n",
    "- Reconstitute input data products that were used to create plots and metrics for further investigation.\n",
    "\n",
    "\n",
    "For a quicker introduction, use an existing sandbox repo (prepared for this exercise) to bypass data reduction steps and go straight to data access via the Butler. If you want the full experience, run the data reduction steps in `process_rc2_subset.sh` and then point the Butler to your own repo."
   ]
  },
  {
   "cell_type": "markdown",
   "id": "bcfadd68-5fcc-4e45-8cc0-ac5553139592",
   "metadata": {
    "execution": {
     "iopub.execute_input": "2023-04-19T04:41:39.575692Z",
     "iopub.status.busy": "2023-04-19T04:41:39.574983Z",
     "iopub.status.idle": "2023-04-19T04:41:39.577852Z",
     "shell.execute_reply": "2023-04-19T04:41:39.577435Z",
     "shell.execute_reply.started": "2023-04-19T04:41:39.575672Z"
    },
    "tags": []
   },
   "source": [
    "## Preliminaries"
   ]
  },
  {
   "cell_type": "code",
   "execution_count": 1,
   "id": "18af6ebd-d52c-42b1-8ddf-0d8c5279ec8a",
   "metadata": {
    "execution": {
     "iopub.execute_input": "2023-12-23T14:15:37.575925Z",
     "iopub.status.busy": "2023-12-23T14:15:37.575457Z",
     "iopub.status.idle": "2023-12-23T14:15:37.778128Z",
     "shell.execute_reply": "2023-12-23T14:15:37.777740Z",
     "shell.execute_reply.started": "2023-12-23T14:15:37.575909Z"
    },
    "tags": []
   },
   "outputs": [],
   "source": [
    "# Basic imports\n",
    "import numpy as np\n",
    "\n",
    "import matplotlib as mpl\n",
    "import matplotlib.pyplot as plt\n",
    "\n",
    "from pprint import pprint"
   ]
  },
  {
   "cell_type": "markdown",
   "id": "42873cfc-e091-446e-ac13-36836db1d813",
   "metadata": {},
   "source": [
    "If using your personal rc2_subset repo, set `SANDBOX_REPO = False`"
   ]
  },
  {
   "cell_type": "code",
   "execution_count": 2,
   "id": "d51c15ac-7c24-47a0-b25b-e3579882b25d",
   "metadata": {
    "execution": {
     "iopub.execute_input": "2023-12-23T14:15:44.135581Z",
     "iopub.status.busy": "2023-12-23T14:15:44.135168Z",
     "iopub.status.idle": "2023-12-23T14:15:44.137521Z",
     "shell.execute_reply": "2023-12-23T14:15:44.137207Z",
     "shell.execute_reply.started": "2023-12-23T14:15:44.135568Z"
    },
    "tags": []
   },
   "outputs": [],
   "source": [
    "SANDBOX_REPO = False"
   ]
  },
  {
   "cell_type": "markdown",
   "id": "6045ec69-4cfc-423e-9c58-aca6b96de7f4",
   "metadata": {
    "execution": {
     "iopub.execute_input": "2023-05-04T01:26:13.350555Z",
     "iopub.status.busy": "2023-05-04T01:26:13.350110Z",
     "iopub.status.idle": "2023-05-04T01:26:13.353867Z",
     "shell.execute_reply": "2023-05-04T01:26:13.353352Z",
     "shell.execute_reply.started": "2023-05-04T01:26:13.350537Z"
    },
    "jp-MarkdownHeadingCollapsed": true,
    "tags": []
   },
   "source": [
    "### Getting set up at USDF\n",
    "\n",
    "The USDF is hosted on the S3DF cluster at SLAC. This notebook has been verified to run on the S3DF cluster.\n",
    "\n",
    "See USDF documentation at\n",
    "* https://developer.lsst.io/usdf/lsst-login.html\n",
    "* https://developer.lsst.io/usdf/onboarding.html"
   ]
  },
  {
   "cell_type": "markdown",
   "id": "ca88b668-c6ef-422b-aa05-399c0e42c3ad",
   "metadata": {},
   "source": [
    "### Processing rc2_subset\n",
    "\n",
    "[rc2_subset](https://github.com/lsst-dm/rc2_subset) is a small dataset with just enough Hyper Suprime-Cam (HSC) exposures to compute a set of meaningful science performance metrics.\n",
    "\n",
    "The LSST Science Pipelines [Getting Started tutorial](https://pipelines.lsst.io/#getting-started) provides a guided tour of data processing using rc2_subset as an example.\n",
    "\n",
    "For convenience, there is a shell script `process_rc2_subset.sh` in the same directory as this notebook that shows the commands to process rc2_subset on the USDF."
   ]
  },
  {
   "cell_type": "markdown",
   "id": "641a9b7f-b0f9-4d45-933d-5c123a51f9e8",
   "metadata": {},
   "source": [
    "### Setting up the analysis_tools package"
   ]
  },
  {
   "cell_type": "markdown",
   "id": "53536611-c540-49fb-87db-9f45dc09bf98",
   "metadata": {},
   "source": [
    "Check the version of the stack you are using"
   ]
  },
  {
   "cell_type": "code",
   "execution_count": 3,
   "id": "04c5caf9-7177-4d59-9c69-0fce71bd0816",
   "metadata": {
    "execution": {
     "iopub.execute_input": "2023-12-23T14:15:48.461898Z",
     "iopub.status.busy": "2023-12-23T14:15:48.461619Z",
     "iopub.status.idle": "2023-12-23T14:15:48.822643Z",
     "shell.execute_reply": "2023-12-23T14:15:48.822084Z",
     "shell.execute_reply.started": "2023-12-23T14:15:48.461883Z"
    },
    "tags": []
   },
   "outputs": [
    {
     "name": "stdout",
     "output_type": "stream",
     "text": [
      "lsst_distrib          g4213664e8e+d053631def \tcurrent w_2023_44 setup\n"
     ]
    }
   ],
   "source": [
    "!eups list -s | grep lsst_distrib"
   ]
  },
  {
   "cell_type": "markdown",
   "id": "7712911a-48c9-499f-bb5c-e2c7d930c99b",
   "metadata": {},
   "source": [
    "The `analysis_tools` package was added to `lsst_distrib` in August 2022, and accordingly, if you have set up the LSST Stack version `w_2022_32` or later, then you should be able to import `analysis_tools` directly in the notebook.\n",
    "\n",
    "See the header for this notebook for the most recent verified Science Pipelines version for this tutorial."
   ]
  },
  {
   "cell_type": "code",
   "execution_count": 4,
   "id": "63239e01-0499-4898-8101-fd01a3897acf",
   "metadata": {
    "execution": {
     "iopub.execute_input": "2023-12-23T14:15:53.164364Z",
     "iopub.status.busy": "2023-12-23T14:15:53.163705Z",
     "iopub.status.idle": "2023-12-23T14:15:54.549034Z",
     "shell.execute_reply": "2023-12-23T14:15:54.548597Z",
     "shell.execute_reply.started": "2023-12-23T14:15:53.164346Z"
    },
    "tags": []
   },
   "outputs": [
    {
     "name": "stdout",
     "output_type": "stream",
     "text": [
      "/home/d/dagoret/repos/repos_w_2023_44/analysis_tools/python/lsst/analysis/tools/__init__.py\n"
     ]
    }
   ],
   "source": [
    "import lsst.analysis.tools\n",
    "print(lsst.analysis.tools.__file__)"
   ]
  },
  {
   "cell_type": "markdown",
   "id": "bd9e09fe-b7d4-41b2-9cad-5f61c4c14cff",
   "metadata": {
    "execution": {
     "iopub.execute_input": "2023-05-04T01:28:21.164082Z",
     "iopub.status.busy": "2023-05-04T01:28:21.163705Z",
     "iopub.status.idle": "2023-05-04T01:28:21.168877Z",
     "shell.execute_reply": "2023-05-04T01:28:21.168256Z",
     "shell.execute_reply.started": "2023-05-04T01:28:21.164065Z"
    },
    "tags": []
   },
   "source": [
    "**Additional background information:** If you are doing development on the `analysis_tools` package and want to test in a notebook, follow the guidance [here](https://nb.lsst.io/science-pipelines/development-tutorial.html). Brief version below (for work on the RSP at USDF):\n",
    "\n",
    "1. In the termal, clone the [analysis_tools](https://github.com/lsst/analysis_tools) repo and set up the package\n",
    "\n",
    "```\n",
    "source /opt/lsst/software/stack/loadLSST.bash\n",
    "setup lsst_distrib\n",
    "\n",
    "# Choose file location for your repo\n",
    "cd ~/repos/\n",
    "git clone https://github.com/lsst/analysis_tools.git\n",
    "cd analysis_tools\n",
    "setup -k -r .\n",
    "scons\n",
    "```\n",
    "\n",
    "2. Add the following line to `~/notebooks/.user_setups`\n",
    "\n",
    "```\n",
    "setup -k -r ~/repos/analysis_tools\n",
    "```\n",
    "\n",
    "Your local version of `analysis_tools` should now be accessible in a notebook."
   ]
  },
  {
   "cell_type": "markdown",
   "id": "958b0c97-2bcd-42b9-a3de-083f4828c14e",
   "metadata": {
    "tags": []
   },
   "source": [
    "## Load data for testing"
   ]
  },
  {
   "cell_type": "code",
   "execution_count": 5,
   "id": "ea55f341-506c-4df0-a5a1-93810ded50d4",
   "metadata": {
    "execution": {
     "iopub.execute_input": "2023-12-23T14:15:59.064538Z",
     "iopub.status.busy": "2023-12-23T14:15:59.063947Z",
     "iopub.status.idle": "2023-12-23T14:15:59.066691Z",
     "shell.execute_reply": "2023-12-23T14:15:59.066317Z",
     "shell.execute_reply.started": "2023-12-23T14:15:59.064521Z"
    }
   },
   "outputs": [],
   "source": [
    "import lsst.daf.butler as dafButler"
   ]
  },
  {
   "cell_type": "markdown",
   "id": "38543d2d-5a45-4481-aebc-e67d2e8a239e",
   "metadata": {},
   "source": [
    "Point to a shared sandbox instance of the processed rc2_subset or point to your own instance. \n",
    "\n",
    "**Note:** For one of the sections later in the notebook that shows how to run analysis_tools as part of a pipeline, you need to point to your own processed instance of rc2_subset. That section can be skipped if you are pointing to the shared sandbox repo."
   ]
  },
  {
   "cell_type": "code",
   "execution_count": 6,
   "id": "d8502fc8-b7c0-42d5-b83e-2ceef4fa101c",
   "metadata": {
    "execution": {
     "iopub.execute_input": "2023-12-23T14:16:01.533324Z",
     "iopub.status.busy": "2023-12-23T14:16:01.532739Z",
     "iopub.status.idle": "2023-12-23T14:16:01.536133Z",
     "shell.execute_reply": "2023-12-23T14:16:01.535676Z",
     "shell.execute_reply.started": "2023-12-23T14:16:01.533309Z"
    },
    "tags": []
   },
   "outputs": [
    {
     "name": "stdout",
     "output_type": "stream",
     "text": [
      "LATISS/runs/AUXTEL_DRP_IMAGING_2023-11A-10A-09AB-08ABC-07AB-05AB/w_2023_46/PREOPS-4553\n",
      "/sdf/group/rubin/repo/oga/\n"
     ]
    }
   ],
   "source": [
    "if SANDBOX_REPO:\n",
    "    # Point to existing sandbox repo if you prefer to skip processing steps\n",
    "    collections = ['u/bechtol']\n",
    "    repo = '/sdf/group/rubin/user/bechtol/bootcamp_2023/rc2_subset/SMALL_HSC/'\n",
    "else:\n",
    "    # User instance of the repo if you have processed rc2_subset yourself\n",
    "    #collections = ['u/%s'%os.environ['USER']]\n",
    "    #repo = '/sdf/group/rubin/user/%s/bootcamp_2023/rc2_subset/SMALL_HSC/'%(os.environ['USER'])\n",
    "    repo = \"/sdf/group/rubin/repo/oga/\"\n",
    "    collections = \"LATISS/runs/AUXTEL_DRP_IMAGING_2023-11A-10A-09AB-08ABC-07AB-05AB/w_2023_46/PREOPS-4553\"\n",
    "print(collections)\n",
    "print(repo)"
   ]
  },
  {
   "cell_type": "code",
   "execution_count": 7,
   "id": "509e92e3-77e8-4fd9-bfab-4b1f764d70d9",
   "metadata": {
    "execution": {
     "iopub.execute_input": "2023-12-23T14:16:04.712670Z",
     "iopub.status.busy": "2023-12-23T14:16:04.712121Z",
     "iopub.status.idle": "2023-12-23T14:16:07.415612Z",
     "shell.execute_reply": "2023-12-23T14:16:07.415063Z",
     "shell.execute_reply.started": "2023-12-23T14:16:04.712655Z"
    },
    "tags": []
   },
   "outputs": [],
   "source": [
    "butler = dafButler.Butler(repo, collections=collections)\n",
    "registry = butler.registry"
   ]
  },
  {
   "cell_type": "markdown",
   "id": "9efe83a0-d105-4a49-8519-0ec861bf2b6c",
   "metadata": {
    "execution": {
     "iopub.execute_input": "2023-04-19T04:34:52.356165Z",
     "iopub.status.busy": "2023-04-19T04:34:52.355921Z",
     "iopub.status.idle": "2023-04-19T04:34:52.358613Z",
     "shell.execute_reply": "2023-04-19T04:34:52.358183Z",
     "shell.execute_reply.started": "2023-04-19T04:34:52.356149Z"
    },
    "tags": []
   },
   "source": [
    "Check what dataset types are present in the collection. Note that the cell below will show _only the dataset types that are present in the specified collection_, not all of the possible dataset types that are known to the butler registry."
   ]
  },
  {
   "cell_type": "code",
   "execution_count": 8,
   "id": "4b2522e7-35e1-4475-b503-e727bae939f3",
   "metadata": {
    "execution": {
     "iopub.execute_input": "2023-12-23T14:16:12.778987Z",
     "iopub.status.busy": "2023-12-23T14:16:12.778339Z",
     "iopub.status.idle": "2023-12-23T14:16:13.717139Z",
     "shell.execute_reply": "2023-12-23T14:16:13.716781Z",
     "shell.execute_reply.started": "2023-12-23T14:16:12.778969Z"
    },
    "tags": []
   },
   "outputs": [
    {
     "name": "stdout",
     "output_type": "stream",
     "text": [
      "DatasetType('raw', {band, instrument, detector, physical_filter, exposure}, Exposure)\n",
      "DatasetType('bias', {instrument, detector}, ExposureF, isCalibration=True)\n",
      "DatasetType('camera', {instrument}, Camera, isCalibration=True)\n",
      "DatasetType('dark', {instrument, detector}, ExposureF, isCalibration=True)\n",
      "DatasetType('defects', {instrument, detector}, Defects, isCalibration=True)\n",
      "DatasetType('flat', {band, instrument, detector, physical_filter}, ExposureF, isCalibration=True)\n",
      "DatasetType('gaia_dr2_20200414', {htm7}, SimpleCatalog)\n",
      "DatasetType('skyMap', {skymap}, SkyMap)\n",
      "DatasetType('atlas_refcat2_20220201', {htm7}, SimpleCatalog)\n",
      "DatasetType('packages', {}, Packages)\n",
      "DatasetType('isr_config', {}, Config)\n",
      "DatasetType('isr_metadata', {band, instrument, detector, physical_filter, exposure}, TaskMetadata)\n",
      "DatasetType('isr_log', {band, instrument, detector, physical_filter, exposure}, ButlerLogRecords)\n",
      "DatasetType('icSrc_schema', {}, SourceCatalog)\n",
      "DatasetType('src_schema', {}, SourceCatalog)\n",
      "DatasetType('calibrate_config', {}, Config)\n",
      "DatasetType('characterizeImage_config', {}, Config)\n",
      "DatasetType('transformSourceTable_config', {}, Config)\n",
      "DatasetType('icSrc', {band, instrument, detector, physical_filter, visit}, SourceCatalog)\n",
      "DatasetType('icExpBackground', {band, instrument, detector, physical_filter, visit}, Background)\n",
      "DatasetType('icExp', {band, instrument, detector, physical_filter, visit}, ExposureF)\n",
      "DatasetType('postISRCCD', {band, instrument, detector, physical_filter, exposure}, Exposure)\n",
      "DatasetType('src', {band, instrument, detector, physical_filter, visit}, SourceCatalog)\n",
      "DatasetType('source', {band, instrument, detector, physical_filter, visit}, DataFrame)\n",
      "DatasetType('calexpBackground', {band, instrument, detector, physical_filter, visit}, Background)\n",
      "DatasetType('calexp', {band, instrument, detector, physical_filter, visit}, ExposureF)\n",
      "DatasetType('srcMatchFull', {band, instrument, detector, physical_filter, visit}, Catalog)\n",
      "DatasetType('srcMatch', {band, instrument, detector, physical_filter, visit}, Catalog)\n",
      "DatasetType('calibrate_metadata', {band, instrument, detector, physical_filter, visit}, TaskMetadata)\n",
      "DatasetType('calibrate_log', {band, instrument, detector, physical_filter, visit}, ButlerLogRecords)\n",
      "DatasetType('characterizeImage_metadata', {band, instrument, detector, physical_filter, visit}, TaskMetadata)\n",
      "DatasetType('characterizeImage_log', {band, instrument, detector, physical_filter, visit}, ButlerLogRecords)\n",
      "DatasetType('sourceTable', {band, instrument, detector, physical_filter, visit}, DataFrame)\n",
      "DatasetType('transformSourceTable_metadata', {band, instrument, detector, physical_filter, visit}, TaskMetadata)\n",
      "DatasetType('transformSourceTable_log', {band, instrument, detector, physical_filter, visit}, ButlerLogRecords)\n",
      "DatasetType('consolidateSourceTable_config', {}, Config)\n",
      "DatasetType('sourceTable_visit', {band, instrument, physical_filter, visit}, DataFrame)\n",
      "DatasetType('consolidateSourceTable_metadata', {band, instrument, physical_filter, visit}, TaskMetadata)\n",
      "DatasetType('consolidateSourceTable_log', {band, instrument, physical_filter, visit}, ButlerLogRecords)\n",
      "DatasetType('makeCcdVisitTable_config', {}, Config)\n",
      "DatasetType('consolidateVisitSummary_config', {}, Config)\n",
      "DatasetType('visitSummary', {band, instrument, physical_filter, visit}, ExposureCatalog)\n",
      "DatasetType('ccdVisitTable', {instrument}, DataFrame)\n",
      "DatasetType('makeCcdVisitTable_metadata', {instrument}, TaskMetadata)\n",
      "DatasetType('makeCcdVisitTable_log', {instrument}, ButlerLogRecords)\n",
      "DatasetType('consolidateVisitSummary_metadata', {band, instrument, physical_filter, visit}, TaskMetadata)\n",
      "DatasetType('consolidateVisitSummary_log', {band, instrument, physical_filter, visit}, ButlerLogRecords)\n",
      "DatasetType('finalizeCharacterization_config', {}, Config)\n",
      "DatasetType('isolatedStarAssociation_config', {}, Config)\n",
      "DatasetType('isolated_star_cat', {instrument, skymap, tract}, DataFrame)\n",
      "DatasetType('isolated_star_sources', {instrument, skymap, tract}, DataFrame)\n",
      "DatasetType('finalized_psf_ap_corr_catalog', {band, instrument, physical_filter, visit}, ExposureCatalog)\n",
      "DatasetType('finalized_src_table', {band, instrument, physical_filter, visit}, DataFrame)\n",
      "DatasetType('finalizeCharacterization_metadata', {band, instrument, physical_filter, visit}, TaskMetadata)\n",
      "DatasetType('isolatedStarAssociation_metadata', {instrument, skymap, tract}, TaskMetadata)\n",
      "DatasetType('finalizeCharacterization_log', {band, instrument, physical_filter, visit}, ButlerLogRecords)\n",
      "DatasetType('isolatedStarAssociation_log', {instrument, skymap, tract}, ButlerLogRecords)\n",
      "DatasetType('makeWarp_config', {}, Config)\n",
      "DatasetType('deepCoadd_directWarp', {band, instrument, skymap, physical_filter, tract, patch, visit}, ExposureF)\n",
      "DatasetType('deepCoadd_psfMatchedWarp', {band, instrument, skymap, physical_filter, tract, patch, visit}, ExposureF)\n",
      "DatasetType('makeWarp_metadata', {band, instrument, skymap, physical_filter, tract, patch, visit}, TaskMetadata)\n",
      "DatasetType('makeWarp_log', {band, instrument, skymap, physical_filter, tract, patch, visit}, ButlerLogRecords)\n",
      "DatasetType('assembleCoadd_config', {}, Config)\n",
      "DatasetType('makeVisitTable_config', {}, Config)\n",
      "DatasetType('deepCoadd_nImage', {band, skymap, tract, patch}, ImageU)\n",
      "DatasetType('deepCoadd_inputMap', {band, skymap, tract, patch}, HealSparseMap)\n",
      "DatasetType('deepCoadd', {band, skymap, tract, patch}, ExposureF)\n",
      "DatasetType('assembleCoadd_metadata', {band, skymap, tract, patch}, TaskMetadata)\n",
      "DatasetType('assembleCoadd_log', {band, skymap, tract, patch}, ButlerLogRecords)\n",
      "DatasetType('visitTable', {instrument}, DataFrame)\n",
      "DatasetType('makeVisitTable_metadata', {instrument}, TaskMetadata)\n",
      "DatasetType('makeVisitTable_log', {instrument}, ButlerLogRecords)\n",
      "DatasetType('healSparsePropertyMaps_config', {}, Config)\n",
      "DatasetType('deepCoadd_epoch_map_max', {band, skymap, tract}, HealSparseMap)\n",
      "DatasetType('deepCoadd_dcr_dra_map_weighted_mean', {band, skymap, tract}, HealSparseMap)\n",
      "DatasetType('deepCoadd_epoch_map_min', {band, skymap, tract}, HealSparseMap)\n",
      "DatasetType('deepCoadd_psf_e1_map_weighted_mean', {band, skymap, tract}, HealSparseMap)\n",
      "DatasetType('deepCoadd_psf_maglim_map_weighted_mean', {band, skymap, tract}, HealSparseMap)\n",
      "DatasetType('deepCoadd_psf_size_map_weighted_mean', {band, skymap, tract}, HealSparseMap)\n",
      "DatasetType('deepCoadd_dcr_e1_map_weighted_mean', {band, skymap, tract}, HealSparseMap)\n",
      "DatasetType('deepCoadd_sky_noise_map_weighted_mean', {band, skymap, tract}, HealSparseMap)\n",
      "DatasetType('deepCoadd_sky_background_map_weighted_mean', {band, skymap, tract}, HealSparseMap)\n",
      "DatasetType('deepCoadd_dcr_e2_map_weighted_mean', {band, skymap, tract}, HealSparseMap)\n",
      "DatasetType('deepCoadd_epoch_map_mean', {band, skymap, tract}, HealSparseMap)\n",
      "DatasetType('deepCoadd_exposure_time_map_sum', {band, skymap, tract}, HealSparseMap)\n",
      "DatasetType('deepCoadd_dcr_ddec_map_weighted_mean', {band, skymap, tract}, HealSparseMap)\n",
      "DatasetType('deepCoadd_psf_e2_map_weighted_mean', {band, skymap, tract}, HealSparseMap)\n",
      "DatasetType('healSparsePropertyMaps_metadata', {band, skymap, tract}, TaskMetadata)\n",
      "DatasetType('healSparsePropertyMaps_log', {band, skymap, tract}, ButlerLogRecords)\n",
      "DatasetType('visitSummary_schema', {}, ExposureCatalog)\n",
      "DatasetType('finalVisitSummary_schema', {}, ExposureCatalog)\n",
      "DatasetType('updateVisitSummary_config', {}, Config)\n",
      "DatasetType('finalVisitSummary', {band, instrument, physical_filter, visit}, ExposureCatalog)\n",
      "DatasetType('updateVisitSummary_metadata', {band, instrument, physical_filter, visit}, TaskMetadata)\n",
      "DatasetType('updateVisitSummary_log', {band, instrument, physical_filter, visit}, ButlerLogRecords)\n",
      "DatasetType('deepCoadd_det_schema', {}, SourceCatalog)\n",
      "DatasetType('detection_config', {}, Config)\n",
      "DatasetType('deepCoadd_det', {band, skymap, tract, patch}, SourceCatalog)\n",
      "DatasetType('deepCoadd_calexp', {band, skymap, tract, patch}, ExposureF)\n",
      "DatasetType('deepCoadd_calexp_background', {band, skymap, tract, patch}, Background)\n",
      "DatasetType('detection_metadata', {band, skymap, tract, patch}, TaskMetadata)\n",
      "DatasetType('detection_log', {band, skymap, tract, patch}, ButlerLogRecords)\n",
      "DatasetType('deepCoadd_peak_schema', {}, PeakCatalog)\n",
      "DatasetType('deepCoadd_mergeDet_schema', {}, SourceCatalog)\n",
      "DatasetType('mergeDetections_config', {}, Config)\n",
      "DatasetType('deepCoadd_deblendedFlux_schema', {}, SourceCatalog)\n",
      "DatasetType('deblend_config', {}, Config)\n",
      "DatasetType('deepCoadd_mergeDet', {skymap, tract, patch}, SourceCatalog)\n",
      "DatasetType('mergeDetections_metadata', {skymap, tract, patch}, TaskMetadata)\n",
      "DatasetType('mergeDetections_log', {skymap, tract, patch}, ButlerLogRecords)\n",
      "DatasetType('deepCoadd_deblendedCatalog', {skymap, tract, patch}, SourceCatalog)\n",
      "DatasetType('deepCoadd_scarletModelData', {skymap, tract, patch}, ScarletModelData)\n",
      "DatasetType('deblend_metadata', {skymap, tract, patch}, TaskMetadata)\n",
      "DatasetType('deblend_log', {skymap, tract, patch}, ButlerLogRecords)\n",
      "DatasetType('deepCoadd_meas_schema', {}, SourceCatalog)\n",
      "DatasetType('measure_config', {}, Config)\n",
      "DatasetType('deepCoadd_ref_schema', {}, SourceCatalog)\n",
      "DatasetType('mergeMeasurements_config', {}, Config)\n",
      "DatasetType('deepCoadd_meas', {band, skymap, tract, patch}, SourceCatalog)\n",
      "DatasetType('deepCoadd_measMatch', {band, skymap, tract, patch}, Catalog)\n",
      "DatasetType('measure_metadata', {band, skymap, tract, patch}, TaskMetadata)\n",
      "DatasetType('measure_log', {band, skymap, tract, patch}, ButlerLogRecords)\n",
      "DatasetType('deepCoadd_ref', {skymap, tract, patch}, SourceCatalog)\n",
      "DatasetType('mergeMeasurements_metadata', {skymap, tract, patch}, TaskMetadata)\n",
      "DatasetType('mergeMeasurements_log', {skymap, tract, patch}, ButlerLogRecords)\n",
      "DatasetType('deepCoadd_forced_src_schema', {}, SourceCatalog)\n",
      "DatasetType('forcedPhotCoadd_config', {}, Config)\n",
      "DatasetType('writeObjectTable_config', {}, Config)\n",
      "DatasetType('transformObjectTable_config', {}, Config)\n",
      "DatasetType('consolidateObjectTable_config', {}, Config)\n",
      "DatasetType('deepCoadd_forced_src', {band, skymap, tract, patch}, SourceCatalog)\n",
      "DatasetType('deepCoadd_obj', {skymap, tract, patch}, DataFrame)\n",
      "DatasetType('objectTable', {skymap, tract, patch}, DataFrame)\n",
      "DatasetType('forcedPhotCoadd_metadata', {band, skymap, tract, patch}, TaskMetadata)\n",
      "DatasetType('forcedPhotCoadd_log', {band, skymap, tract, patch}, ButlerLogRecords)\n",
      "DatasetType('writeObjectTable_metadata', {skymap, tract, patch}, TaskMetadata)\n",
      "DatasetType('writeObjectTable_log', {skymap, tract, patch}, ButlerLogRecords)\n",
      "DatasetType('transformObjectTable_metadata', {skymap, tract, patch}, TaskMetadata)\n",
      "DatasetType('transformObjectTable_log', {skymap, tract, patch}, ButlerLogRecords)\n",
      "DatasetType('objectTable_tract', {skymap, tract}, DataFrame)\n",
      "DatasetType('consolidateObjectTable_metadata', {skymap, tract}, TaskMetadata)\n",
      "DatasetType('consolidateObjectTable_log', {skymap, tract}, ButlerLogRecords)\n",
      "DatasetType('deepCoadd_measMatchFull', {band, skymap, tract, patch}, Catalog)\n",
      "DatasetType('analyzeMatchedVisitCore_config', {}, Config)\n",
      "DatasetType('crosstalk', {instrument, detector}, CrosstalkCalib, isCalibration=True)\n",
      "DatasetType('matchedVisitCore_r_stellarPhotometricRepeatability_HistPlot', {instrument, skymap, tract}, Plot)\n",
      "DatasetType('matchedVisitCore_g_stellarPhotometricRepeatability_HistPlot', {instrument, skymap, tract}, Plot)\n",
      "DatasetType('matchedVisitCore_metrics', {instrument, skymap, tract}, MetricMeasurementBundle)\n",
      "DatasetType('matchedVisitCore_i_stellarPhotometricRepeatability_HistPlot', {instrument, skymap, tract}, Plot)\n",
      "DatasetType('fgcmFitParameters0', {instrument}, Catalog)\n",
      "DatasetType('analyzeMatchedVisitCore_metadata', {instrument, skymap, tract}, TaskMetadata)\n",
      "DatasetType('analyzeMatchedVisitCore_log', {instrument, skymap, tract}, ButlerLogRecords)\n",
      "DatasetType('matchedVisitCore_i_stellarAstrometricResidualsRA_FocalPlanePlot', {instrument, skymap, tract}, Plot)\n",
      "DatasetType('matchedVisitCore_r_stellarPhotometricResiduals_FocalPlanePlot', {instrument, skymap, tract}, Plot)\n",
      "DatasetType('matchedVisitCore_g_stellarAstrometricResidualStdDevRA_FocalPlanePlot', {instrument, skymap, tract}, Plot)\n",
      "DatasetType('matchedVisitCore_i_stellarPhotometricResiduals_FocalPlanePlot', {instrument, skymap, tract}, Plot)\n",
      "DatasetType('matchedVisitCore_r_stellarAstrometricResidualStdDevRA_FocalPlanePlot', {instrument, skymap, tract}, Plot)\n",
      "DatasetType('matchedVisitCore_i_stellarAstrometricResidualStdDevRA_FocalPlanePlot', {instrument, skymap, tract}, Plot)\n",
      "DatasetType('matchedVisitCore_g_stellarPhotometricResiduals_FocalPlanePlot', {instrument, skymap, tract}, Plot)\n",
      "DatasetType('matchedVisitCore_i_stellarAstrometricResidualsDec_FocalPlanePlot', {instrument, skymap, tract}, Plot)\n",
      "DatasetType('matchedVisitCore_i_stellarAstrometricResidualStdDevDec_FocalPlanePlot', {instrument, skymap, tract}, Plot)\n",
      "DatasetType('matchedVisitCore_r_stellarAstrometricResidualsRA_FocalPlanePlot', {instrument, skymap, tract}, Plot)\n",
      "DatasetType('matchedVisitCore_g_stellarAstrometricResidualsDec_FocalPlanePlot', {instrument, skymap, tract}, Plot)\n",
      "DatasetType('matchedVisitCore_r_stellarAstrometricResidualsDec_FocalPlanePlot', {instrument, skymap, tract}, Plot)\n",
      "DatasetType('matchedVisitCore_g_stellarAstrometricResidualsRA_FocalPlanePlot', {instrument, skymap, tract}, Plot)\n",
      "DatasetType('matchedVisitCore_r_stellarAstrometricResidualStdDevDec_FocalPlanePlot', {instrument, skymap, tract}, Plot)\n",
      "DatasetType('matchedVisitCore_g_stellarAstrometricResidualStdDevDec_FocalPlanePlot', {instrument, skymap, tract}, Plot)\n",
      "DatasetType('transmission_filter', {band, instrument, physical_filter}, TransmissionCurve, isCalibration=True)\n",
      "DatasetType('analyzeObjectTableSurveyCore_config', {}, Config)\n",
      "DatasetType('refCatObjectTract_config', {}, Config)\n",
      "DatasetType('analyzeObjectTableCore_config', {}, Config)\n",
      "DatasetType('catalogMatchTract_config', {}, Config)\n",
      "DatasetType('objectTable_tract_gaia_dr2_20200414_match', {skymap, tract}, DataFrame)\n",
      "DatasetType('objectTableSurvey_i_rhoStatistics_rho3alt_RhoStatisticsPlot', {skymap}, Plot)\n",
      "DatasetType('objectTableSurvey_i_rhoStatistics_rho4_RhoStatisticsPlot', {skymap}, Plot)\n",
      "DatasetType('objectTableSurvey_i_rhoStatistics_rho1_RhoStatisticsPlot', {skymap}, Plot)\n",
      "DatasetType('objectTableSurvey_i_rhoStatistics_rho5_RhoStatisticsPlot', {skymap}, Plot)\n",
      "DatasetType('objectTableSurvey_i_rhoStatistics_rho3_RhoStatisticsPlot', {skymap}, Plot)\n",
      "DatasetType('objectTableSurvey_i_rhoStatistics_rho2_RhoStatisticsPlot', {skymap}, Plot)\n",
      "DatasetType('analyzeObjectTableSurveyCore_metadata', {skymap}, TaskMetadata)\n",
      "DatasetType('analyzeObjectTableSurveyCore_log', {skymap}, ButlerLogRecords)\n",
      "DatasetType('objectTable_tract_gaia_dr2_20200414_match_r_astromDiffRA_SkyPlot', {skymap, tract}, Plot)\n",
      "DatasetType('objectTable_tract_gaia_dr2_20200414_match_i_astromDiffDec_SkyPlot', {skymap, tract}, Plot)\n",
      "DatasetType('objectTable_tract_gaia_dr2_20200414_match_i_astromDiffDecMag_ScatterPlotWithTwoHists', {skymap, tract}, Plot)\n",
      "DatasetType('objectTable_tract_gaia_dr2_20200414_match_g_astromDiffDecMag_ScatterPlotWithTwoHists', {skymap, tract}, Plot)\n",
      "DatasetType('objectTable_tract_gaia_dr2_20200414_match_i_astromDiffRA_SkyPlot', {skymap, tract}, Plot)\n",
      "DatasetType('objectTable_tract_gaia_dr2_20200414_match_g_astromDiffRAMag_ScatterPlotWithTwoHists', {skymap, tract}, Plot)\n",
      "DatasetType('objectTable_tract_gaia_dr2_20200414_match_g_astromDiffRA_SkyPlot', {skymap, tract}, Plot)\n",
      "DatasetType('objectTable_tract_gaia_dr2_20200414_match_r_astromDiffDecMag_ScatterPlotWithTwoHists', {skymap, tract}, Plot)\n",
      "DatasetType('objectTable_tract_gaia_dr2_20200414_match_r_astromDiffRAMag_ScatterPlotWithTwoHists', {skymap, tract}, Plot)\n",
      "DatasetType('objectTable_tract_gaia_dr2_20200414_match_g_astromDiffDec_SkyPlot', {skymap, tract}, Plot)\n",
      "DatasetType('objectTable_tract_gaia_dr2_20200414_match_r_astromDiffDec_SkyPlot', {skymap, tract}, Plot)\n",
      "DatasetType('objectTable_tract_gaia_dr2_20200414_match_i_astromDiffRAMag_ScatterPlotWithTwoHists', {skymap, tract}, Plot)\n",
      "DatasetType('refCatObjectTract_metadata', {skymap, tract}, TaskMetadata)\n",
      "DatasetType('refCatObjectTract_log', {skymap, tract}, ButlerLogRecords)\n",
      "DatasetType('objectTableCore_r_skyObjectFlux_HistPlot', {skymap, tract}, Plot)\n",
      "DatasetType('objectTableCore_r_e1Diff_ScatterPlotWithTwoHists', {skymap, tract}, Plot)\n",
      "DatasetType('objectTableCore_metrics', {skymap, tract}, MetricMeasurementBundle)\n",
      "DatasetType('objectTableCore_i_skyObjectSky_SkyPlot', {skymap, tract}, Plot)\n",
      "DatasetType('objectTableCore_i_e1Diff_ScatterPlotWithTwoHists', {skymap, tract}, Plot)\n",
      "DatasetType('objectTableCore_r_skyObjectSky_SkyPlot', {skymap, tract}, Plot)\n",
      "DatasetType('objectTableCore_i_skyObjectFlux_HistPlot', {skymap, tract}, Plot)\n",
      "DatasetType('objectTableCore_i_e2Diff_ScatterPlotWithTwoHists', {skymap, tract}, Plot)\n",
      "DatasetType('objectTableCore_g_skyObjectSky_SkyPlot', {skymap, tract}, Plot)\n",
      "DatasetType('objectTableCore_xPerpPSFP_ColorColorFitPlot', {skymap, tract}, Plot)\n",
      "DatasetType('objectTableCore_g_shapeSizeFractionalDiff_ScatterPlotWithTwoHists', {skymap, tract}, Plot)\n",
      "DatasetType('objectTableCore_xPerpCModel_ColorColorFitPlot', {skymap, tract}, Plot)\n",
      "DatasetType('objectTableCore_r_shapeSizeFractionalDiff_ScatterPlotWithTwoHists', {skymap, tract}, Plot)\n",
      "DatasetType('objectTableCore_g_e1Diff_ScatterPlotWithTwoHists', {skymap, tract}, Plot)\n",
      "DatasetType('objectTableCore_wPerpPSFP_ColorColorFitPlot', {skymap, tract}, Plot)\n",
      "DatasetType('objectTableCore_i_shapeSizeFractionalDiff_ScatterPlotWithTwoHists', {skymap, tract}, Plot)\n",
      "DatasetType('objectTableCore_wPerpCModel_ColorColorFitPlot', {skymap, tract}, Plot)\n",
      "DatasetType('objectTableCore_g_skyObjectFlux_HistPlot', {skymap, tract}, Plot)\n",
      "DatasetType('objectTableCore_g_e2Diff_ScatterPlotWithTwoHists', {skymap, tract}, Plot)\n",
      "DatasetType('objectTableCore_r_e2Diff_ScatterPlotWithTwoHists', {skymap, tract}, Plot)\n",
      "DatasetType('analyzeObjectTableCore_metadata', {skymap, tract}, TaskMetadata)\n",
      "DatasetType('analyzeObjectTableCore_log', {skymap, tract}, ButlerLogRecords)\n",
      "DatasetType('catalogMatchTract_metadata', {skymap, tract}, TaskMetadata)\n",
      "DatasetType('catalogMatchTract_log', {skymap, tract}, ButlerLogRecords)\n",
      "DatasetType('transmission_optics', {instrument}, TransmissionCurve, isCalibration=True)\n",
      "DatasetType('transmission_sensor', {instrument, detector}, TransmissionCurve, isCalibration=True)\n",
      "DatasetType('fgcmLookUpTable', {instrument}, Catalog)\n",
      "DatasetType('fgcmBuildFromIsolatedStars_config', {}, Config)\n",
      "DatasetType('fgcm_star_ids', {instrument}, ArrowAstropy)\n",
      "DatasetType('fgcm_reference_stars', {instrument}, ArrowAstropy)\n",
      "DatasetType('fgcmVisitCatalog', {instrument}, Catalog)\n",
      "DatasetType('fgcm_star_observations', {instrument}, ArrowAstropy)\n",
      "DatasetType('fgcmBuildFromIsolatedStars_metadata', {instrument}, TaskMetadata)\n",
      "DatasetType('fgcmBuildFromIsolatedStars_log', {instrument}, ButlerLogRecords)\n",
      "DatasetType('fgcmFitCycle_config', {}, Config)\n",
      "DatasetType('fgcmFlaggedStars0', {instrument}, Catalog)\n",
      "DatasetType('fgcmFitParameters4', {instrument}, Catalog)\n",
      "DatasetType('fgcmFlaggedStars1', {instrument}, Catalog)\n",
      "DatasetType('fgcmFlaggedStars2', {instrument}, Catalog)\n",
      "DatasetType('fgcmFitParameters3', {instrument}, Catalog)\n",
      "DatasetType('fgcmFitParameters1', {instrument}, Catalog)\n",
      "DatasetType('fgcmFlaggedStars4', {instrument}, Catalog)\n",
      "DatasetType('fgcmFitParameters2', {instrument}, Catalog)\n",
      "DatasetType('fgcmFlaggedStars3', {instrument}, Catalog)\n",
      "DatasetType('fgcmFitCycle_metadata', {instrument}, TaskMetadata)\n",
      "DatasetType('fgcmFitCycle_log', {instrument}, ButlerLogRecords)\n",
      "DatasetType('fgcmStandardStars6', {instrument}, SimpleCatalog)\n",
      "DatasetType('fgcmZeropoints6', {instrument}, Catalog)\n",
      "DatasetType('fgcmFitParameters5', {instrument}, Catalog)\n",
      "DatasetType('fgcmAtmosphereParameters6', {instrument}, Catalog)\n",
      "DatasetType('fgcmFlaggedStars6', {instrument}, Catalog)\n",
      "DatasetType('fgcmFitParameters6', {instrument}, Catalog)\n",
      "DatasetType('fgcmFlaggedStars5', {instrument}, Catalog)\n",
      "DatasetType('writePreSourceTable_config', {}, Config)\n",
      "DatasetType('writePreSourceTable_log', {band, instrument, detector, physical_filter, visit}, ButlerLogRecords)\n",
      "DatasetType('transformPreSourceTable_config', {}, Config)\n",
      "DatasetType('preSourceTable', {band, instrument, detector, physical_filter, visit}, DataFrame)\n",
      "DatasetType('transformPreSourceTable_log', {band, instrument, detector, physical_filter, visit}, ButlerLogRecords)\n",
      "DatasetType('preSource', {band, instrument, detector, physical_filter, visit}, DataFrame)\n",
      "DatasetType('writePreSourceTable_metadata', {band, instrument, detector, physical_filter, visit}, TaskMetadata)\n",
      "DatasetType('transformPreSourceTable_metadata', {band, instrument, detector, physical_filter, visit}, TaskMetadata)\n",
      "DatasetType('consolidatePreSourceTable_config', {}, Config)\n",
      "DatasetType('consolidatePreSourceTable_log', {band, instrument, physical_filter, visit}, ButlerLogRecords)\n",
      "DatasetType('consolidatePreSourceTable_metadata', {band, instrument, physical_filter, visit}, TaskMetadata)\n",
      "DatasetType('preSourceTable_visit', {band, instrument, physical_filter, visit}, DataFrame)\n",
      "DatasetType('fgcmOutputProducts_metadata', {instrument}, TaskMetadata)\n",
      "DatasetType('transmission_atmosphere_fgcm', {band, instrument, physical_filter, visit}, TransmissionCurve)\n",
      "DatasetType('fgcmPhotoCalibCatalog', {band, instrument, physical_filter, visit}, ExposureCatalog)\n",
      "DatasetType('fgcmOutputProducts_log', {instrument}, ButlerLogRecords)\n",
      "DatasetType('fgcmOutputProducts_config', {}, Config)\n",
      "DatasetType('writeRecalibratedSourceTable_config', {}, Config)\n",
      "DatasetType('writeRecalibratedSourceTable_metadata', {band, instrument, skymap, detector, physical_filter, visit}, TaskMetadata)\n",
      "DatasetType('writeRecalibratedSourceTable_log', {band, instrument, skymap, detector, physical_filter, visit}, ButlerLogRecords)\n",
      "DatasetType('gaia_dr3_20230707', {htm7}, SimpleCatalog)\n",
      "DatasetType('plot_wFit_PSF_config', {}, Config)\n",
      "DatasetType('plot_ri_gr_cmodel_config', {}, Config)\n",
      "DatasetType('validateObjectTableCore_config', {}, Config)\n",
      "DatasetType('plot_xFit_PSF_config', {}, Config)\n",
      "DatasetType('plot_ri_gr_psf_config', {}, Config)\n",
      "DatasetType('matchedVisitCore_g_stellarAstrometricRepeatability2_HistPlot', {instrument, skymap, tract}, Plot)\n",
      "DatasetType('matchedVisitCore_r_stellarAstrometricRepeatability3_HistPlot', {instrument, skymap, tract}, Plot)\n",
      "DatasetType('matchedVisitCore_g_stellarAstrometricRepeatability1_HistPlot', {instrument, skymap, tract}, Plot)\n",
      "DatasetType('matchedVisitCore_g_stellarAstrometricRepeatability3_HistPlot', {instrument, skymap, tract}, Plot)\n",
      "DatasetType('matchedVisitCore_i_stellarAstrometricRepeatability2_HistPlot', {instrument, skymap, tract}, Plot)\n",
      "DatasetType('matchedVisitCore_r_stellarAstrometricRepeatability2_HistPlot', {instrument, skymap, tract}, Plot)\n",
      "DatasetType('matchedVisitCore_r_stellarAstrometricRepeatability1_HistPlot', {instrument, skymap, tract}, Plot)\n",
      "DatasetType('matchedVisitCore_i_stellarAstrometricRepeatability1_HistPlot', {instrument, skymap, tract}, Plot)\n",
      "DatasetType('matchedVisitCore_i_stellarAstrometricRepeatability3_HistPlot', {instrument, skymap, tract}, Plot)\n",
      "DatasetType('colorColorFitPlot_wFit_PSF', {skymap, tract}, Plot)\n",
      "DatasetType('plot_wFit_PSF_metadata', {skymap, tract}, TaskMetadata)\n",
      "DatasetType('plot_wFit_PSF_log', {skymap, tract}, ButlerLogRecords)\n",
      "DatasetType('colorColorPlot_ri_gr_cmodel', {skymap, tract}, Plot)\n",
      "DatasetType('plot_ri_gr_cmodel_metadata', {skymap, tract}, TaskMetadata)\n",
      "DatasetType('plot_ri_gr_cmodel_log', {skymap, tract}, ButlerLogRecords)\n",
      "DatasetType('objectTableColumnValidate_metrics', {skymap, tract}, MetricMeasurementBundle)\n",
      "DatasetType('validateObjectTableCore_metadata', {skymap, tract}, TaskMetadata)\n",
      "DatasetType('validateObjectTableCore_log', {skymap, tract}, ButlerLogRecords)\n",
      "DatasetType('colorColorFitPlot_xFit_PSF', {skymap, tract}, Plot)\n",
      "DatasetType('plot_xFit_PSF_metadata', {skymap, tract}, TaskMetadata)\n",
      "DatasetType('plot_xFit_PSF_log', {skymap, tract}, ButlerLogRecords)\n",
      "DatasetType('colorColorPlot_ri_gr_psf', {skymap, tract}, Plot)\n",
      "DatasetType('plot_ri_gr_psf_metadata', {skymap, tract}, TaskMetadata)\n",
      "DatasetType('plot_ri_gr_psf_log', {skymap, tract}, ButlerLogRecords)\n",
      "DatasetType('selectDeepCoaddVisits_config', {}, Config)\n",
      "DatasetType('deepCoaddVisits', {band, instrument, skymap, tract, patch}, StructuredDataDict)\n",
      "DatasetType('selectDeepCoaddVisits_metadata', {band, instrument, skymap, tract, patch}, TaskMetadata)\n",
      "DatasetType('selectDeepCoaddVisits_log', {band, instrument, skymap, tract, patch}, ButlerLogRecords)\n"
     ]
    }
   ],
   "source": [
    "for datasetType in registry.queryDatasetTypes():\n",
    "    if registry.queryDatasets(datasetType, collections=collections).any(execute=False, exact=False):\n",
    "        print(datasetType)"
   ]
  },
  {
   "cell_type": "markdown",
   "id": "6519bdbf-a9c7-4bb3-b9c1-c03e02177afa",
   "metadata": {
    "tags": []
   },
   "source": [
    "### Object tables\n",
    "\n",
    "The examples below use an object table"
   ]
  },
  {
   "cell_type": "code",
   "execution_count": 9,
   "id": "a86f7ad8-a6e2-4b0a-b593-eef02f9d8211",
   "metadata": {
    "execution": {
     "iopub.execute_input": "2023-12-23T14:16:29.395288Z",
     "iopub.status.busy": "2023-12-23T14:16:29.394876Z",
     "iopub.status.idle": "2023-12-23T14:16:29.406876Z",
     "shell.execute_reply": "2023-12-23T14:16:29.406567Z",
     "shell.execute_reply.started": "2023-12-23T14:16:29.395274Z"
    },
    "tags": []
   },
   "outputs": [
    {
     "name": "stdout",
     "output_type": "stream",
     "text": [
      "12\n"
     ]
    }
   ],
   "source": [
    "refs = sorted(registry.queryDatasets(\"objectTable_tract\"))\n",
    "print(len(refs))"
   ]
  },
  {
   "cell_type": "code",
   "execution_count": 10,
   "id": "00b4eb4b-9f19-4af2-b0d8-1d3a0ffed060",
   "metadata": {
    "execution": {
     "iopub.execute_input": "2023-12-23T14:16:38.837551Z",
     "iopub.status.busy": "2023-12-23T14:16:38.837179Z",
     "iopub.status.idle": "2023-12-23T14:16:38.840050Z",
     "shell.execute_reply": "2023-12-23T14:16:38.839759Z",
     "shell.execute_reply.started": "2023-12-23T14:16:38.837537Z"
    },
    "tags": []
   },
   "outputs": [
    {
     "data": {
      "text/plain": [
       "{skymap: 'latiss_v1', tract: 382}"
      ]
     },
     "execution_count": 10,
     "metadata": {},
     "output_type": "execute_result"
    }
   ],
   "source": [
    "refs[0].dataId"
   ]
  },
  {
   "cell_type": "code",
   "execution_count": 11,
   "id": "7e2b7687-a351-4422-93c9-7b73c9bcbb9a",
   "metadata": {
    "execution": {
     "iopub.execute_input": "2023-12-23T14:16:42.701657Z",
     "iopub.status.busy": "2023-12-23T14:16:42.701268Z",
     "iopub.status.idle": "2023-12-23T14:16:42.829461Z",
     "shell.execute_reply": "2023-12-23T14:16:42.829143Z",
     "shell.execute_reply.started": "2023-12-23T14:16:42.701644Z"
    },
    "tags": []
   },
   "outputs": [
    {
     "data": {
      "text/html": [
       "<div>\n",
       "<style scoped>\n",
       "    .dataframe tbody tr th:only-of-type {\n",
       "        vertical-align: middle;\n",
       "    }\n",
       "\n",
       "    .dataframe tbody tr th {\n",
       "        vertical-align: top;\n",
       "    }\n",
       "\n",
       "    .dataframe thead th {\n",
       "        text-align: right;\n",
       "    }\n",
       "</style>\n",
       "<table border=\"1\" class=\"dataframe\">\n",
       "  <thead>\n",
       "    <tr style=\"text-align: right;\">\n",
       "      <th>column</th>\n",
       "      <th>refExtendedness</th>\n",
       "      <th>coord_ra</th>\n",
       "      <th>xErr</th>\n",
       "      <th>coord_raErr</th>\n",
       "      <th>refFwhm</th>\n",
       "      <th>shape_flag</th>\n",
       "      <th>shape_yy</th>\n",
       "      <th>detect_isDeblendedSource</th>\n",
       "      <th>detect_fromBlend</th>\n",
       "      <th>coord_ra_dec_Cov</th>\n",
       "      <th>...</th>\n",
       "      <th>r_kronFlux_flag</th>\n",
       "      <th>r_kronFlux_flag_bad_radius</th>\n",
       "      <th>r_kronFlux_flag_bad_shape</th>\n",
       "      <th>r_kronFlux_flag_bad_shape_no_psf</th>\n",
       "      <th>r_kronFlux_flag_edge</th>\n",
       "      <th>r_kronFlux_flag_no_fallback_radius</th>\n",
       "      <th>r_kronFlux_flag_no_minimum_radius</th>\n",
       "      <th>r_kronFlux_flag_small_radius</th>\n",
       "      <th>r_kronFlux_flag_used_minimum_radius</th>\n",
       "      <th>r_kronFlux_flag_used_psf_radius</th>\n",
       "    </tr>\n",
       "    <tr>\n",
       "      <th>objectId</th>\n",
       "      <th></th>\n",
       "      <th></th>\n",
       "      <th></th>\n",
       "      <th></th>\n",
       "      <th></th>\n",
       "      <th></th>\n",
       "      <th></th>\n",
       "      <th></th>\n",
       "      <th></th>\n",
       "      <th></th>\n",
       "      <th></th>\n",
       "      <th></th>\n",
       "      <th></th>\n",
       "      <th></th>\n",
       "      <th></th>\n",
       "      <th></th>\n",
       "      <th></th>\n",
       "      <th></th>\n",
       "      <th></th>\n",
       "      <th></th>\n",
       "      <th></th>\n",
       "    </tr>\n",
       "  </thead>\n",
       "  <tbody>\n",
       "    <tr>\n",
       "      <th>152000885470265345</th>\n",
       "      <td>NaN</td>\n",
       "      <td>12.657939</td>\n",
       "      <td>0.017589</td>\n",
       "      <td>1.437013e-07</td>\n",
       "      <td>1.908929</td>\n",
       "      <td>False</td>\n",
       "      <td>20.356996</td>\n",
       "      <td>False</td>\n",
       "      <td>False</td>\n",
       "      <td>-5.646219e-16</td>\n",
       "      <td>...</td>\n",
       "      <td>False</td>\n",
       "      <td>False</td>\n",
       "      <td>False</td>\n",
       "      <td>False</td>\n",
       "      <td>False</td>\n",
       "      <td>False</td>\n",
       "      <td>False</td>\n",
       "      <td>False</td>\n",
       "      <td>False</td>\n",
       "      <td>False</td>\n",
       "    </tr>\n",
       "    <tr>\n",
       "      <th>152000885470265346</th>\n",
       "      <td>NaN</td>\n",
       "      <td>12.664152</td>\n",
       "      <td>NaN</td>\n",
       "      <td>NaN</td>\n",
       "      <td>1.774596</td>\n",
       "      <td>True</td>\n",
       "      <td>57.014939</td>\n",
       "      <td>True</td>\n",
       "      <td>False</td>\n",
       "      <td>NaN</td>\n",
       "      <td>...</td>\n",
       "      <td>True</td>\n",
       "      <td>False</td>\n",
       "      <td>True</td>\n",
       "      <td>False</td>\n",
       "      <td>False</td>\n",
       "      <td>False</td>\n",
       "      <td>False</td>\n",
       "      <td>False</td>\n",
       "      <td>False</td>\n",
       "      <td>False</td>\n",
       "    </tr>\n",
       "    <tr>\n",
       "      <th>152000885470265347</th>\n",
       "      <td>NaN</td>\n",
       "      <td>12.707339</td>\n",
       "      <td>0.063852</td>\n",
       "      <td>5.215830e-07</td>\n",
       "      <td>1.759258</td>\n",
       "      <td>False</td>\n",
       "      <td>20.585423</td>\n",
       "      <td>True</td>\n",
       "      <td>False</td>\n",
       "      <td>-4.266535e-15</td>\n",
       "      <td>...</td>\n",
       "      <td>False</td>\n",
       "      <td>False</td>\n",
       "      <td>False</td>\n",
       "      <td>False</td>\n",
       "      <td>False</td>\n",
       "      <td>False</td>\n",
       "      <td>False</td>\n",
       "      <td>False</td>\n",
       "      <td>False</td>\n",
       "      <td>False</td>\n",
       "    </tr>\n",
       "    <tr>\n",
       "      <th>152000885470265348</th>\n",
       "      <td>NaN</td>\n",
       "      <td>12.698553</td>\n",
       "      <td>NaN</td>\n",
       "      <td>NaN</td>\n",
       "      <td>1.761285</td>\n",
       "      <td>True</td>\n",
       "      <td>49.527927</td>\n",
       "      <td>False</td>\n",
       "      <td>False</td>\n",
       "      <td>NaN</td>\n",
       "      <td>...</td>\n",
       "      <td>True</td>\n",
       "      <td>False</td>\n",
       "      <td>True</td>\n",
       "      <td>False</td>\n",
       "      <td>False</td>\n",
       "      <td>False</td>\n",
       "      <td>False</td>\n",
       "      <td>False</td>\n",
       "      <td>False</td>\n",
       "      <td>False</td>\n",
       "    </tr>\n",
       "    <tr>\n",
       "      <th>152000885470265349</th>\n",
       "      <td>NaN</td>\n",
       "      <td>12.627229</td>\n",
       "      <td>0.020167</td>\n",
       "      <td>1.647231e-07</td>\n",
       "      <td>1.920911</td>\n",
       "      <td>False</td>\n",
       "      <td>22.494657</td>\n",
       "      <td>True</td>\n",
       "      <td>False</td>\n",
       "      <td>-4.046048e-16</td>\n",
       "      <td>...</td>\n",
       "      <td>False</td>\n",
       "      <td>False</td>\n",
       "      <td>False</td>\n",
       "      <td>False</td>\n",
       "      <td>False</td>\n",
       "      <td>False</td>\n",
       "      <td>False</td>\n",
       "      <td>False</td>\n",
       "      <td>False</td>\n",
       "      <td>False</td>\n",
       "    </tr>\n",
       "    <tr>\n",
       "      <th>...</th>\n",
       "      <td>...</td>\n",
       "      <td>...</td>\n",
       "      <td>...</td>\n",
       "      <td>...</td>\n",
       "      <td>...</td>\n",
       "      <td>...</td>\n",
       "      <td>...</td>\n",
       "      <td>...</td>\n",
       "      <td>...</td>\n",
       "      <td>...</td>\n",
       "      <td>...</td>\n",
       "      <td>...</td>\n",
       "      <td>...</td>\n",
       "      <td>...</td>\n",
       "      <td>...</td>\n",
       "      <td>...</td>\n",
       "      <td>...</td>\n",
       "      <td>...</td>\n",
       "      <td>...</td>\n",
       "      <td>...</td>\n",
       "      <td>...</td>\n",
       "    </tr>\n",
       "    <tr>\n",
       "      <th>152001984981893827</th>\n",
       "      <td>NaN</td>\n",
       "      <td>12.370166</td>\n",
       "      <td>NaN</td>\n",
       "      <td>NaN</td>\n",
       "      <td>2.079763</td>\n",
       "      <td>True</td>\n",
       "      <td>5.679145</td>\n",
       "      <td>False</td>\n",
       "      <td>False</td>\n",
       "      <td>NaN</td>\n",
       "      <td>...</td>\n",
       "      <td>True</td>\n",
       "      <td>False</td>\n",
       "      <td>True</td>\n",
       "      <td>False</td>\n",
       "      <td>False</td>\n",
       "      <td>False</td>\n",
       "      <td>False</td>\n",
       "      <td>False</td>\n",
       "      <td>False</td>\n",
       "      <td>False</td>\n",
       "    </tr>\n",
       "    <tr>\n",
       "      <th>152001984981893828</th>\n",
       "      <td>NaN</td>\n",
       "      <td>12.265530</td>\n",
       "      <td>NaN</td>\n",
       "      <td>NaN</td>\n",
       "      <td>2.247895</td>\n",
       "      <td>True</td>\n",
       "      <td>16.641399</td>\n",
       "      <td>False</td>\n",
       "      <td>False</td>\n",
       "      <td>NaN</td>\n",
       "      <td>...</td>\n",
       "      <td>True</td>\n",
       "      <td>False</td>\n",
       "      <td>True</td>\n",
       "      <td>False</td>\n",
       "      <td>False</td>\n",
       "      <td>False</td>\n",
       "      <td>False</td>\n",
       "      <td>False</td>\n",
       "      <td>False</td>\n",
       "      <td>False</td>\n",
       "    </tr>\n",
       "    <tr>\n",
       "      <th>152001984981893829</th>\n",
       "      <td>NaN</td>\n",
       "      <td>12.247889</td>\n",
       "      <td>0.860605</td>\n",
       "      <td>7.061518e-06</td>\n",
       "      <td>2.252725</td>\n",
       "      <td>True</td>\n",
       "      <td>NaN</td>\n",
       "      <td>False</td>\n",
       "      <td>False</td>\n",
       "      <td>-6.198125e-12</td>\n",
       "      <td>...</td>\n",
       "      <td>True</td>\n",
       "      <td>False</td>\n",
       "      <td>True</td>\n",
       "      <td>False</td>\n",
       "      <td>True</td>\n",
       "      <td>False</td>\n",
       "      <td>False</td>\n",
       "      <td>False</td>\n",
       "      <td>False</td>\n",
       "      <td>False</td>\n",
       "    </tr>\n",
       "    <tr>\n",
       "      <th>152001984981893830</th>\n",
       "      <td>1.0</td>\n",
       "      <td>12.250667</td>\n",
       "      <td>1.069740</td>\n",
       "      <td>8.777309e-06</td>\n",
       "      <td>2.280991</td>\n",
       "      <td>False</td>\n",
       "      <td>1.033439</td>\n",
       "      <td>False</td>\n",
       "      <td>False</td>\n",
       "      <td>-2.309861e-11</td>\n",
       "      <td>...</td>\n",
       "      <td>True</td>\n",
       "      <td>False</td>\n",
       "      <td>True</td>\n",
       "      <td>False</td>\n",
       "      <td>False</td>\n",
       "      <td>False</td>\n",
       "      <td>False</td>\n",
       "      <td>False</td>\n",
       "      <td>False</td>\n",
       "      <td>False</td>\n",
       "    </tr>\n",
       "    <tr>\n",
       "      <th>152001984981893831</th>\n",
       "      <td>NaN</td>\n",
       "      <td>12.260671</td>\n",
       "      <td>NaN</td>\n",
       "      <td>NaN</td>\n",
       "      <td>2.297946</td>\n",
       "      <td>True</td>\n",
       "      <td>5.532175</td>\n",
       "      <td>False</td>\n",
       "      <td>False</td>\n",
       "      <td>NaN</td>\n",
       "      <td>...</td>\n",
       "      <td>True</td>\n",
       "      <td>False</td>\n",
       "      <td>True</td>\n",
       "      <td>False</td>\n",
       "      <td>False</td>\n",
       "      <td>False</td>\n",
       "      <td>False</td>\n",
       "      <td>False</td>\n",
       "      <td>False</td>\n",
       "      <td>False</td>\n",
       "    </tr>\n",
       "  </tbody>\n",
       "</table>\n",
       "<p>689 rows × 526 columns</p>\n",
       "</div>"
      ],
      "text/plain": [
       "column              refExtendedness   coord_ra      xErr   coord_raErr  \\\n",
       "objectId                                                                 \n",
       "152000885470265345              NaN  12.657939  0.017589  1.437013e-07   \n",
       "152000885470265346              NaN  12.664152       NaN           NaN   \n",
       "152000885470265347              NaN  12.707339  0.063852  5.215830e-07   \n",
       "152000885470265348              NaN  12.698553       NaN           NaN   \n",
       "152000885470265349              NaN  12.627229  0.020167  1.647231e-07   \n",
       "...                             ...        ...       ...           ...   \n",
       "152001984981893827              NaN  12.370166       NaN           NaN   \n",
       "152001984981893828              NaN  12.265530       NaN           NaN   \n",
       "152001984981893829              NaN  12.247889  0.860605  7.061518e-06   \n",
       "152001984981893830              1.0  12.250667  1.069740  8.777309e-06   \n",
       "152001984981893831              NaN  12.260671       NaN           NaN   \n",
       "\n",
       "column               refFwhm  shape_flag   shape_yy  detect_isDeblendedSource  \\\n",
       "objectId                                                                        \n",
       "152000885470265345  1.908929       False  20.356996                     False   \n",
       "152000885470265346  1.774596        True  57.014939                      True   \n",
       "152000885470265347  1.759258       False  20.585423                      True   \n",
       "152000885470265348  1.761285        True  49.527927                     False   \n",
       "152000885470265349  1.920911       False  22.494657                      True   \n",
       "...                      ...         ...        ...                       ...   \n",
       "152001984981893827  2.079763        True   5.679145                     False   \n",
       "152001984981893828  2.247895        True  16.641399                     False   \n",
       "152001984981893829  2.252725        True        NaN                     False   \n",
       "152001984981893830  2.280991       False   1.033439                     False   \n",
       "152001984981893831  2.297946        True   5.532175                     False   \n",
       "\n",
       "column              detect_fromBlend  coord_ra_dec_Cov  ...  r_kronFlux_flag  \\\n",
       "objectId                                                ...                    \n",
       "152000885470265345             False     -5.646219e-16  ...            False   \n",
       "152000885470265346             False               NaN  ...             True   \n",
       "152000885470265347             False     -4.266535e-15  ...            False   \n",
       "152000885470265348             False               NaN  ...             True   \n",
       "152000885470265349             False     -4.046048e-16  ...            False   \n",
       "...                              ...               ...  ...              ...   \n",
       "152001984981893827             False               NaN  ...             True   \n",
       "152001984981893828             False               NaN  ...             True   \n",
       "152001984981893829             False     -6.198125e-12  ...             True   \n",
       "152001984981893830             False     -2.309861e-11  ...             True   \n",
       "152001984981893831             False               NaN  ...             True   \n",
       "\n",
       "column              r_kronFlux_flag_bad_radius  r_kronFlux_flag_bad_shape  \\\n",
       "objectId                                                                    \n",
       "152000885470265345                       False                      False   \n",
       "152000885470265346                       False                       True   \n",
       "152000885470265347                       False                      False   \n",
       "152000885470265348                       False                       True   \n",
       "152000885470265349                       False                      False   \n",
       "...                                        ...                        ...   \n",
       "152001984981893827                       False                       True   \n",
       "152001984981893828                       False                       True   \n",
       "152001984981893829                       False                       True   \n",
       "152001984981893830                       False                       True   \n",
       "152001984981893831                       False                       True   \n",
       "\n",
       "column              r_kronFlux_flag_bad_shape_no_psf  r_kronFlux_flag_edge  \\\n",
       "objectId                                                                     \n",
       "152000885470265345                             False                 False   \n",
       "152000885470265346                             False                 False   \n",
       "152000885470265347                             False                 False   \n",
       "152000885470265348                             False                 False   \n",
       "152000885470265349                             False                 False   \n",
       "...                                              ...                   ...   \n",
       "152001984981893827                             False                 False   \n",
       "152001984981893828                             False                 False   \n",
       "152001984981893829                             False                  True   \n",
       "152001984981893830                             False                 False   \n",
       "152001984981893831                             False                 False   \n",
       "\n",
       "column              r_kronFlux_flag_no_fallback_radius  \\\n",
       "objectId                                                 \n",
       "152000885470265345                               False   \n",
       "152000885470265346                               False   \n",
       "152000885470265347                               False   \n",
       "152000885470265348                               False   \n",
       "152000885470265349                               False   \n",
       "...                                                ...   \n",
       "152001984981893827                               False   \n",
       "152001984981893828                               False   \n",
       "152001984981893829                               False   \n",
       "152001984981893830                               False   \n",
       "152001984981893831                               False   \n",
       "\n",
       "column              r_kronFlux_flag_no_minimum_radius  \\\n",
       "objectId                                                \n",
       "152000885470265345                              False   \n",
       "152000885470265346                              False   \n",
       "152000885470265347                              False   \n",
       "152000885470265348                              False   \n",
       "152000885470265349                              False   \n",
       "...                                               ...   \n",
       "152001984981893827                              False   \n",
       "152001984981893828                              False   \n",
       "152001984981893829                              False   \n",
       "152001984981893830                              False   \n",
       "152001984981893831                              False   \n",
       "\n",
       "column              r_kronFlux_flag_small_radius  \\\n",
       "objectId                                           \n",
       "152000885470265345                         False   \n",
       "152000885470265346                         False   \n",
       "152000885470265347                         False   \n",
       "152000885470265348                         False   \n",
       "152000885470265349                         False   \n",
       "...                                          ...   \n",
       "152001984981893827                         False   \n",
       "152001984981893828                         False   \n",
       "152001984981893829                         False   \n",
       "152001984981893830                         False   \n",
       "152001984981893831                         False   \n",
       "\n",
       "column              r_kronFlux_flag_used_minimum_radius  \\\n",
       "objectId                                                  \n",
       "152000885470265345                                False   \n",
       "152000885470265346                                False   \n",
       "152000885470265347                                False   \n",
       "152000885470265348                                False   \n",
       "152000885470265349                                False   \n",
       "...                                                 ...   \n",
       "152001984981893827                                False   \n",
       "152001984981893828                                False   \n",
       "152001984981893829                                False   \n",
       "152001984981893830                                False   \n",
       "152001984981893831                                False   \n",
       "\n",
       "column              r_kronFlux_flag_used_psf_radius  \n",
       "objectId                                             \n",
       "152000885470265345                            False  \n",
       "152000885470265346                            False  \n",
       "152000885470265347                            False  \n",
       "152000885470265348                            False  \n",
       "152000885470265349                            False  \n",
       "...                                             ...  \n",
       "152001984981893827                            False  \n",
       "152001984981893828                            False  \n",
       "152001984981893829                            False  \n",
       "152001984981893830                            False  \n",
       "152001984981893831                            False  \n",
       "\n",
       "[689 rows x 526 columns]"
      ]
     },
     "execution_count": 11,
     "metadata": {},
     "output_type": "execute_result"
    }
   ],
   "source": [
    "objectTable = butler.get(refs[0])\n",
    "objectTable"
   ]
  },
  {
   "cell_type": "code",
   "execution_count": 13,
   "id": "ee6fe2b7-3446-4ee9-8f6a-177ea5a9bfcf",
   "metadata": {
    "execution": {
     "iopub.execute_input": "2023-12-23T13:45:28.407885Z",
     "iopub.status.busy": "2023-12-23T13:45:28.407631Z",
     "iopub.status.idle": "2023-12-23T13:45:28.412401Z",
     "shell.execute_reply": "2023-12-23T13:45:28.412004Z",
     "shell.execute_reply.started": "2023-12-23T13:45:28.407869Z"
    },
    "tags": []
   },
   "outputs": [
    {
     "data": {
      "text/plain": [
       "array(['refFwhm', 'shape_xx', 'coord_ra', 'detect_isDeblendedModelSource',\n",
       "       'parentObjectId', 'deblend_nChild', 'footprintArea', 'shape_yy',\n",
       "       'ebv', 'x', 'xErr', 'y', 'detect_fromBlend', 'detect_isIsolated',\n",
       "       'sky_object', 'coord_dec', 'detect_isTractInner',\n",
       "       'detect_isPatchInner', 'xy_flag', 'detect_isPrimary', 'refBand',\n",
       "       'shape_flag', 'merge_peak_sky', 'deblend_skipped', 'yErr',\n",
       "       'shape_xy', 'detect_isDeblendedSource', 'refExtendedness', 'tract',\n",
       "       'patch', 'y_ra', 'y_decl', 'y_psfFlux', 'y_psfFluxErr',\n",
       "       'y_free_psfFlux', 'y_free_psfFluxErr', 'y_free_psfFlux_flag',\n",
       "       'y_bdE1', 'y_bdE2', 'y_bdReB', 'y_bdReD', 'y_bdChi2', 'y_bdFluxB',\n",
       "       'y_bdFluxBErr', 'y_bdFluxD', 'y_bdFluxDErr', 'y_gaapPsfFlux',\n",
       "       'y_gaapPsfFluxErr', 'y_gaap0p5Flux', 'y_gaap0p5FluxErr',\n",
       "       'y_gaap0p7Flux', 'y_gaap0p7FluxErr', 'y_gaap1p0Flux',\n",
       "       'y_gaap1p0FluxErr', 'y_gaap1p5Flux', 'y_gaap1p5FluxErr',\n",
       "       'y_gaap2p5Flux', 'y_gaap2p5FluxErr', 'y_gaap3p0Flux',\n",
       "       'y_gaap3p0FluxErr', 'y_gaapOptimalFlux', 'y_gaapOptimalFluxErr',\n",
       "       'y_ixx', 'y_iyy', 'y_ixy', 'y_i_flag', 'y_ixxPSF', 'y_iyyPSF',\n",
       "       'y_ixyPSF', 'y_iPSF_flag', 'y_ixxRound', 'y_iyyRound',\n",
       "       'y_ixyRound', 'y_iRound_flag', 'y_ixxDebiasedPSF',\n",
       "       'y_iyyDebiasedPSF', 'y_ixyDebiasedPSF', 'y_iDebiasedPSF_flag',\n",
       "       'y_kronRad', 'y_kronFlux', 'y_kronFluxErr', 'y_calibFlux',\n",
       "       'y_calibFluxErr', 'y_ap03Flux', 'y_ap03FluxErr', 'y_ap03Flux_flag',\n",
       "       'y_ap06Flux', 'y_ap06FluxErr', 'y_ap06Flux_flag', 'y_ap09Flux',\n",
       "       'y_ap09FluxErr', 'y_ap09Flux_flag', 'y_ap12Flux', 'y_ap12FluxErr',\n",
       "       'y_ap12Flux_flag', 'y_ap17Flux', 'y_ap17FluxErr',\n",
       "       'y_ap17Flux_flag', 'y_ap25Flux', 'y_ap25FluxErr',\n",
       "       'y_ap25Flux_flag', 'y_ap35Flux', 'y_ap35FluxErr',\n",
       "       'y_ap35Flux_flag', 'y_ap50Flux', 'y_ap50FluxErr',\n",
       "       'y_ap50Flux_flag', 'y_ap70Flux', 'y_ap70FluxErr',\n",
       "       'y_ap70Flux_flag', 'y_extendedness', 'y_blendedness', 'y_fwhm',\n",
       "       'y_cModelFlux', 'y_cModelFluxErr', 'y_cModelFlux_inner',\n",
       "       'y_free_cModelFlux', 'y_free_cModelFluxErr',\n",
       "       'y_free_cModelFlux_inner', 'y_free_cModelFlux_flag',\n",
       "       'y_hsmShapeRegauss_e1', 'y_hsmShapeRegauss_e2',\n",
       "       'y_hsmShapeRegauss_sigma', 'y_hsmShapeRegauss_flag',\n",
       "       'y_inputCount', 'y_inputCount_flag', 'y_inputCount_flag_noInputs',\n",
       "       'y_psfFlux_area', 'y_psfFlux_flag', 'y_psfFlux_flag_apCorr',\n",
       "       'y_psfFlux_flag_edge', 'y_psfFlux_flag_noGoodPixels',\n",
       "       'y_cModel_flag', 'y_cModel_flag_apCorr', 'y_gaapFlux_flag',\n",
       "       'y_gaapFlux_flag_edge', 'y_gaapFlux_flag_gaussianization',\n",
       "       'y_gaapOptimalFlux_flag_bigPsf', 'y_gaap0p5Flux_flag_bigPsf',\n",
       "       'y_gaap0p7Flux_flag_bigPsf', 'y_gaap1p0Flux_flag_bigPsf',\n",
       "       'y_gaap1p5Flux_flag_bigPsf', 'y_gaap2p5Flux_flag_bigPsf',\n",
       "       'y_gaap3p0Flux_flag_bigPsf', 'y_blendedness_flag',\n",
       "       'y_pixelFlags_bad', 'y_pixelFlags_clipped',\n",
       "       'y_pixelFlags_clippedCenter', 'y_pixelFlags_cr',\n",
       "       'y_pixelFlags_crCenter', 'y_pixelFlags_edge',\n",
       "       'y_pixelFlags_inexact_psf', 'y_pixelFlags_inexact_psfCenter',\n",
       "       'y_pixelFlags_interpolated', 'y_pixelFlags_interpolatedCenter',\n",
       "       'y_pixelFlags_offimage', 'y_pixelFlags_saturated',\n",
       "       'y_pixelFlags_saturatedCenter', 'y_pixelFlags_sensor_edge',\n",
       "       'y_pixelFlags_sensor_edgeCenter', 'y_pixelFlags_suspect',\n",
       "       'y_pixelFlags_suspectCenter', 'y_extendedness_flag',\n",
       "       'y_calib_astrometry_used', 'y_calib_photometry_reserved',\n",
       "       'y_calib_photometry_used', 'y_calib_psf_candidate',\n",
       "       'y_calib_psf_reserved', 'y_calib_psf_used', 'y_apFlux_flag',\n",
       "       'y_apFlux_flag_apertureTruncated',\n",
       "       'y_apFlux_flag_sincCoeffsTruncated', 'y_calibFlux_flag',\n",
       "       'y_calibFlux_flag_apertureTruncated',\n",
       "       'y_calibFlux_flag_sincCoeffsTruncated', 'y_centroid_flag',\n",
       "       'y_centroid_x', 'y_centroid_xErr', 'y_centroid_y',\n",
       "       'y_centroid_yErr', 'y_kronFlux_flag', 'y_kronFlux_flag_bad_radius',\n",
       "       'y_kronFlux_flag_bad_shape', 'y_kronFlux_flag_bad_shape_no_psf',\n",
       "       'y_kronFlux_flag_edge', 'y_kronFlux_flag_no_fallback_radius',\n",
       "       'y_kronFlux_flag_no_minimum_radius',\n",
       "       'y_kronFlux_flag_small_radius',\n",
       "       'y_kronFlux_flag_used_minimum_radius',\n",
       "       'y_kronFlux_flag_used_psf_radius', 'z_ra', 'z_decl', 'z_psfFlux',\n",
       "       'z_psfFluxErr', 'z_free_psfFlux', 'z_free_psfFluxErr',\n",
       "       'z_free_psfFlux_flag', 'z_bdE1', 'z_bdE2', 'z_bdReB', 'z_bdReD',\n",
       "       'z_bdChi2', 'z_bdFluxB', 'z_bdFluxBErr', 'z_bdFluxD',\n",
       "       'z_bdFluxDErr', 'z_gaapPsfFlux', 'z_gaapPsfFluxErr',\n",
       "       'z_gaap0p5Flux', 'z_gaap0p5FluxErr', 'z_gaap0p7Flux',\n",
       "       'z_gaap0p7FluxErr', 'z_gaap1p0Flux', 'z_gaap1p0FluxErr',\n",
       "       'z_gaap1p5Flux', 'z_gaap1p5FluxErr', 'z_gaap2p5Flux',\n",
       "       'z_gaap2p5FluxErr', 'z_gaap3p0Flux', 'z_gaap3p0FluxErr',\n",
       "       'z_gaapOptimalFlux', 'z_gaapOptimalFluxErr', 'z_ixx', 'z_iyy',\n",
       "       'z_ixy', 'z_i_flag', 'z_ixxPSF', 'z_iyyPSF', 'z_ixyPSF',\n",
       "       'z_iPSF_flag', 'z_ixxRound', 'z_iyyRound', 'z_ixyRound',\n",
       "       'z_iRound_flag', 'z_ixxDebiasedPSF', 'z_iyyDebiasedPSF',\n",
       "       'z_ixyDebiasedPSF', 'z_iDebiasedPSF_flag', 'z_kronRad',\n",
       "       'z_kronFlux', 'z_kronFluxErr', 'z_calibFlux', 'z_calibFluxErr',\n",
       "       'z_ap03Flux', 'z_ap03FluxErr', 'z_ap03Flux_flag', 'z_ap06Flux',\n",
       "       'z_ap06FluxErr', 'z_ap06Flux_flag', 'z_ap09Flux', 'z_ap09FluxErr',\n",
       "       'z_ap09Flux_flag', 'z_ap12Flux', 'z_ap12FluxErr',\n",
       "       'z_ap12Flux_flag', 'z_ap17Flux', 'z_ap17FluxErr',\n",
       "       'z_ap17Flux_flag', 'z_ap25Flux', 'z_ap25FluxErr',\n",
       "       'z_ap25Flux_flag', 'z_ap35Flux', 'z_ap35FluxErr',\n",
       "       'z_ap35Flux_flag', 'z_ap50Flux', 'z_ap50FluxErr',\n",
       "       'z_ap50Flux_flag', 'z_ap70Flux', 'z_ap70FluxErr',\n",
       "       'z_ap70Flux_flag', 'z_extendedness', 'z_blendedness', 'z_fwhm',\n",
       "       'z_cModelFlux', 'z_cModelFluxErr', 'z_cModelFlux_inner',\n",
       "       'z_free_cModelFlux', 'z_free_cModelFluxErr',\n",
       "       'z_free_cModelFlux_inner', 'z_free_cModelFlux_flag',\n",
       "       'z_hsmShapeRegauss_e1', 'z_hsmShapeRegauss_e2',\n",
       "       'z_hsmShapeRegauss_sigma', 'z_hsmShapeRegauss_flag',\n",
       "       'z_inputCount', 'z_inputCount_flag', 'z_inputCount_flag_noInputs',\n",
       "       'z_psfFlux_area', 'z_psfFlux_flag', 'z_psfFlux_flag_apCorr',\n",
       "       'z_psfFlux_flag_edge', 'z_psfFlux_flag_noGoodPixels',\n",
       "       'z_cModel_flag', 'z_cModel_flag_apCorr', 'z_gaapFlux_flag',\n",
       "       'z_gaapFlux_flag_edge', 'z_gaapFlux_flag_gaussianization',\n",
       "       'z_gaapOptimalFlux_flag_bigPsf', 'z_gaap0p5Flux_flag_bigPsf',\n",
       "       'z_gaap0p7Flux_flag_bigPsf', 'z_gaap1p0Flux_flag_bigPsf',\n",
       "       'z_gaap1p5Flux_flag_bigPsf', 'z_gaap2p5Flux_flag_bigPsf',\n",
       "       'z_gaap3p0Flux_flag_bigPsf', 'z_blendedness_flag',\n",
       "       'z_pixelFlags_bad', 'z_pixelFlags_clipped',\n",
       "       'z_pixelFlags_clippedCenter', 'z_pixelFlags_cr',\n",
       "       'z_pixelFlags_crCenter', 'z_pixelFlags_edge',\n",
       "       'z_pixelFlags_inexact_psf', 'z_pixelFlags_inexact_psfCenter',\n",
       "       'z_pixelFlags_interpolated', 'z_pixelFlags_interpolatedCenter',\n",
       "       'z_pixelFlags_offimage', 'z_pixelFlags_saturated',\n",
       "       'z_pixelFlags_saturatedCenter', 'z_pixelFlags_sensor_edge',\n",
       "       'z_pixelFlags_sensor_edgeCenter', 'z_pixelFlags_suspect',\n",
       "       'z_pixelFlags_suspectCenter', 'z_extendedness_flag',\n",
       "       'z_calib_astrometry_used', 'z_calib_photometry_reserved',\n",
       "       'z_calib_photometry_used', 'z_calib_psf_candidate',\n",
       "       'z_calib_psf_reserved', 'z_calib_psf_used', 'z_apFlux_flag',\n",
       "       'z_apFlux_flag_apertureTruncated',\n",
       "       'z_apFlux_flag_sincCoeffsTruncated', 'z_calibFlux_flag',\n",
       "       'z_calibFlux_flag_apertureTruncated',\n",
       "       'z_calibFlux_flag_sincCoeffsTruncated', 'z_centroid_flag',\n",
       "       'z_centroid_x', 'z_centroid_xErr', 'z_centroid_y',\n",
       "       'z_centroid_yErr', 'z_kronFlux_flag', 'z_kronFlux_flag_bad_radius',\n",
       "       'z_kronFlux_flag_bad_shape', 'z_kronFlux_flag_bad_shape_no_psf',\n",
       "       'z_kronFlux_flag_edge', 'z_kronFlux_flag_no_fallback_radius',\n",
       "       'z_kronFlux_flag_no_minimum_radius',\n",
       "       'z_kronFlux_flag_small_radius',\n",
       "       'z_kronFlux_flag_used_minimum_radius',\n",
       "       'z_kronFlux_flag_used_psf_radius', 'r_ra', 'r_decl', 'r_psfFlux',\n",
       "       'r_psfFluxErr', 'r_free_psfFlux', 'r_free_psfFluxErr',\n",
       "       'r_free_psfFlux_flag', 'r_bdE1', 'r_bdE2', 'r_bdReB', 'r_bdReD',\n",
       "       'r_bdChi2', 'r_bdFluxB', 'r_bdFluxBErr', 'r_bdFluxD',\n",
       "       'r_bdFluxDErr', 'r_gaapPsfFlux', 'r_gaapPsfFluxErr',\n",
       "       'r_gaap0p5Flux', 'r_gaap0p5FluxErr', 'r_gaap0p7Flux',\n",
       "       'r_gaap0p7FluxErr', 'r_gaap1p0Flux', 'r_gaap1p0FluxErr',\n",
       "       'r_gaap1p5Flux', 'r_gaap1p5FluxErr', 'r_gaap2p5Flux',\n",
       "       'r_gaap2p5FluxErr', 'r_gaap3p0Flux', 'r_gaap3p0FluxErr',\n",
       "       'r_gaapOptimalFlux', 'r_gaapOptimalFluxErr', 'r_ixx', 'r_iyy',\n",
       "       'r_ixy', 'r_i_flag', 'r_ixxPSF', 'r_iyyPSF', 'r_ixyPSF',\n",
       "       'r_iPSF_flag', 'r_ixxRound', 'r_iyyRound', 'r_ixyRound',\n",
       "       'r_iRound_flag', 'r_ixxDebiasedPSF', 'r_iyyDebiasedPSF',\n",
       "       'r_ixyDebiasedPSF', 'r_iDebiasedPSF_flag', 'r_kronRad',\n",
       "       'r_kronFlux', 'r_kronFluxErr', 'r_calibFlux', 'r_calibFluxErr',\n",
       "       'r_ap03Flux', 'r_ap03FluxErr', 'r_ap03Flux_flag', 'r_ap06Flux',\n",
       "       'r_ap06FluxErr', 'r_ap06Flux_flag', 'r_ap09Flux', 'r_ap09FluxErr',\n",
       "       'r_ap09Flux_flag', 'r_ap12Flux', 'r_ap12FluxErr',\n",
       "       'r_ap12Flux_flag', 'r_ap17Flux', 'r_ap17FluxErr',\n",
       "       'r_ap17Flux_flag', 'r_ap25Flux', 'r_ap25FluxErr',\n",
       "       'r_ap25Flux_flag', 'r_ap35Flux', 'r_ap35FluxErr',\n",
       "       'r_ap35Flux_flag', 'r_ap50Flux', 'r_ap50FluxErr',\n",
       "       'r_ap50Flux_flag', 'r_ap70Flux', 'r_ap70FluxErr',\n",
       "       'r_ap70Flux_flag', 'r_extendedness', 'r_blendedness', 'r_fwhm',\n",
       "       'r_cModelFlux', 'r_cModelFluxErr', 'r_cModelFlux_inner',\n",
       "       'r_free_cModelFlux', 'r_free_cModelFluxErr',\n",
       "       'r_free_cModelFlux_inner', 'r_free_cModelFlux_flag',\n",
       "       'r_hsmShapeRegauss_e1', 'r_hsmShapeRegauss_e2',\n",
       "       'r_hsmShapeRegauss_sigma', 'r_hsmShapeRegauss_flag',\n",
       "       'r_inputCount', 'r_inputCount_flag', 'r_inputCount_flag_noInputs',\n",
       "       'r_psfFlux_area', 'r_psfFlux_flag', 'r_psfFlux_flag_apCorr',\n",
       "       'r_psfFlux_flag_edge', 'r_psfFlux_flag_noGoodPixels',\n",
       "       'r_cModel_flag', 'r_cModel_flag_apCorr', 'r_gaapFlux_flag',\n",
       "       'r_gaapFlux_flag_edge', 'r_gaapFlux_flag_gaussianization',\n",
       "       'r_gaapOptimalFlux_flag_bigPsf', 'r_gaap0p5Flux_flag_bigPsf',\n",
       "       'r_gaap0p7Flux_flag_bigPsf', 'r_gaap1p0Flux_flag_bigPsf',\n",
       "       'r_gaap1p5Flux_flag_bigPsf', 'r_gaap2p5Flux_flag_bigPsf',\n",
       "       'r_gaap3p0Flux_flag_bigPsf', 'r_blendedness_flag',\n",
       "       'r_pixelFlags_bad', 'r_pixelFlags_clipped',\n",
       "       'r_pixelFlags_clippedCenter', 'r_pixelFlags_cr',\n",
       "       'r_pixelFlags_crCenter', 'r_pixelFlags_edge',\n",
       "       'r_pixelFlags_inexact_psf', 'r_pixelFlags_inexact_psfCenter',\n",
       "       'r_pixelFlags_interpolated', 'r_pixelFlags_interpolatedCenter',\n",
       "       'r_pixelFlags_offimage', 'r_pixelFlags_saturated',\n",
       "       'r_pixelFlags_saturatedCenter', 'r_pixelFlags_sensor_edge',\n",
       "       'r_pixelFlags_sensor_edgeCenter', 'r_pixelFlags_suspect',\n",
       "       'r_pixelFlags_suspectCenter', 'r_extendedness_flag',\n",
       "       'r_calib_astrometry_used', 'r_calib_photometry_reserved',\n",
       "       'r_calib_photometry_used', 'r_calib_psf_candidate',\n",
       "       'r_calib_psf_reserved', 'r_calib_psf_used', 'r_apFlux_flag',\n",
       "       'r_apFlux_flag_apertureTruncated',\n",
       "       'r_apFlux_flag_sincCoeffsTruncated', 'r_calibFlux_flag',\n",
       "       'r_calibFlux_flag_apertureTruncated',\n",
       "       'r_calibFlux_flag_sincCoeffsTruncated', 'r_centroid_flag',\n",
       "       'r_centroid_x', 'r_centroid_xErr', 'r_centroid_y',\n",
       "       'r_centroid_yErr', 'r_kronFlux_flag', 'r_kronFlux_flag_bad_radius',\n",
       "       'r_kronFlux_flag_bad_shape', 'r_kronFlux_flag_bad_shape_no_psf',\n",
       "       'r_kronFlux_flag_edge', 'r_kronFlux_flag_no_fallback_radius',\n",
       "       'r_kronFlux_flag_no_minimum_radius',\n",
       "       'r_kronFlux_flag_small_radius',\n",
       "       'r_kronFlux_flag_used_minimum_radius',\n",
       "       'r_kronFlux_flag_used_psf_radius', 'i_ra', 'i_decl', 'i_psfFlux',\n",
       "       'i_psfFluxErr', 'i_free_psfFlux', 'i_free_psfFluxErr',\n",
       "       'i_free_psfFlux_flag', 'i_bdE1', 'i_bdE2', 'i_bdReB', 'i_bdReD',\n",
       "       'i_bdChi2', 'i_bdFluxB', 'i_bdFluxBErr', 'i_bdFluxD',\n",
       "       'i_bdFluxDErr', 'i_gaapPsfFlux', 'i_gaapPsfFluxErr',\n",
       "       'i_gaap0p5Flux', 'i_gaap0p5FluxErr', 'i_gaap0p7Flux',\n",
       "       'i_gaap0p7FluxErr', 'i_gaap1p0Flux', 'i_gaap1p0FluxErr',\n",
       "       'i_gaap1p5Flux', 'i_gaap1p5FluxErr', 'i_gaap2p5Flux',\n",
       "       'i_gaap2p5FluxErr', 'i_gaap3p0Flux', 'i_gaap3p0FluxErr',\n",
       "       'i_gaapOptimalFlux', 'i_gaapOptimalFluxErr', 'i_ixx', 'i_iyy',\n",
       "       'i_ixy', 'i_i_flag', 'i_ixxPSF', 'i_iyyPSF', 'i_ixyPSF',\n",
       "       'i_iPSF_flag', 'i_ixxRound', 'i_iyyRound', 'i_ixyRound',\n",
       "       'i_iRound_flag', 'i_ixxDebiasedPSF', 'i_iyyDebiasedPSF',\n",
       "       'i_ixyDebiasedPSF', 'i_iDebiasedPSF_flag', 'i_kronRad',\n",
       "       'i_kronFlux', 'i_kronFluxErr', 'i_calibFlux', 'i_calibFluxErr',\n",
       "       'i_ap03Flux', 'i_ap03FluxErr', 'i_ap03Flux_flag', 'i_ap06Flux',\n",
       "       'i_ap06FluxErr', 'i_ap06Flux_flag', 'i_ap09Flux', 'i_ap09FluxErr',\n",
       "       'i_ap09Flux_flag', 'i_ap12Flux', 'i_ap12FluxErr',\n",
       "       'i_ap12Flux_flag', 'i_ap17Flux', 'i_ap17FluxErr',\n",
       "       'i_ap17Flux_flag', 'i_ap25Flux', 'i_ap25FluxErr',\n",
       "       'i_ap25Flux_flag', 'i_ap35Flux', 'i_ap35FluxErr',\n",
       "       'i_ap35Flux_flag', 'i_ap50Flux', 'i_ap50FluxErr',\n",
       "       'i_ap50Flux_flag', 'i_ap70Flux', 'i_ap70FluxErr',\n",
       "       'i_ap70Flux_flag', 'i_extendedness', 'i_blendedness', 'i_fwhm',\n",
       "       'i_cModelFlux', 'i_cModelFluxErr', 'i_cModelFlux_inner',\n",
       "       'i_free_cModelFlux', 'i_free_cModelFluxErr',\n",
       "       'i_free_cModelFlux_inner', 'i_free_cModelFlux_flag',\n",
       "       'i_hsmShapeRegauss_e1', 'i_hsmShapeRegauss_e2',\n",
       "       'i_hsmShapeRegauss_sigma', 'i_hsmShapeRegauss_flag',\n",
       "       'i_inputCount', 'i_inputCount_flag', 'i_inputCount_flag_noInputs',\n",
       "       'i_psfFlux_area', 'i_psfFlux_flag', 'i_psfFlux_flag_apCorr',\n",
       "       'i_psfFlux_flag_edge', 'i_psfFlux_flag_noGoodPixels',\n",
       "       'i_cModel_flag', 'i_cModel_flag_apCorr', 'i_gaapFlux_flag',\n",
       "       'i_gaapFlux_flag_edge', 'i_gaapFlux_flag_gaussianization',\n",
       "       'i_gaapOptimalFlux_flag_bigPsf', 'i_gaap0p5Flux_flag_bigPsf',\n",
       "       'i_gaap0p7Flux_flag_bigPsf', 'i_gaap1p0Flux_flag_bigPsf',\n",
       "       'i_gaap1p5Flux_flag_bigPsf', 'i_gaap2p5Flux_flag_bigPsf',\n",
       "       'i_gaap3p0Flux_flag_bigPsf', 'i_blendedness_flag',\n",
       "       'i_pixelFlags_bad', 'i_pixelFlags_clipped',\n",
       "       'i_pixelFlags_clippedCenter', 'i_pixelFlags_cr',\n",
       "       'i_pixelFlags_crCenter', 'i_pixelFlags_edge',\n",
       "       'i_pixelFlags_inexact_psf', 'i_pixelFlags_inexact_psfCenter',\n",
       "       'i_pixelFlags_interpolated', 'i_pixelFlags_interpolatedCenter',\n",
       "       'i_pixelFlags_offimage', 'i_pixelFlags_saturated',\n",
       "       'i_pixelFlags_saturatedCenter', 'i_pixelFlags_sensor_edge',\n",
       "       'i_pixelFlags_sensor_edgeCenter', 'i_pixelFlags_suspect',\n",
       "       'i_pixelFlags_suspectCenter', 'i_extendedness_flag',\n",
       "       'i_calib_astrometry_used', 'i_calib_photometry_reserved',\n",
       "       'i_calib_photometry_used', 'i_calib_psf_candidate',\n",
       "       'i_calib_psf_reserved', 'i_calib_psf_used', 'i_apFlux_flag',\n",
       "       'i_apFlux_flag_apertureTruncated',\n",
       "       'i_apFlux_flag_sincCoeffsTruncated', 'i_calibFlux_flag',\n",
       "       'i_calibFlux_flag_apertureTruncated',\n",
       "       'i_calibFlux_flag_sincCoeffsTruncated', 'i_centroid_flag',\n",
       "       'i_centroid_x', 'i_centroid_xErr', 'i_centroid_y',\n",
       "       'i_centroid_yErr', 'i_kronFlux_flag', 'i_kronFlux_flag_bad_radius',\n",
       "       'i_kronFlux_flag_bad_shape', 'i_kronFlux_flag_bad_shape_no_psf',\n",
       "       'i_kronFlux_flag_edge', 'i_kronFlux_flag_no_fallback_radius',\n",
       "       'i_kronFlux_flag_no_minimum_radius',\n",
       "       'i_kronFlux_flag_small_radius',\n",
       "       'i_kronFlux_flag_used_minimum_radius',\n",
       "       'i_kronFlux_flag_used_psf_radius', 'g_ra', 'g_decl', 'g_psfFlux',\n",
       "       'g_psfFluxErr', 'g_free_psfFlux', 'g_free_psfFluxErr',\n",
       "       'g_free_psfFlux_flag', 'g_bdE1', 'g_bdE2', 'g_bdReB', 'g_bdReD',\n",
       "       'g_bdChi2', 'g_bdFluxB', 'g_bdFluxBErr', 'g_bdFluxD',\n",
       "       'g_bdFluxDErr', 'g_gaapPsfFlux', 'g_gaapPsfFluxErr',\n",
       "       'g_gaap0p5Flux', 'g_gaap0p5FluxErr', 'g_gaap0p7Flux',\n",
       "       'g_gaap0p7FluxErr', 'g_gaap1p0Flux', 'g_gaap1p0FluxErr',\n",
       "       'g_gaap1p5Flux', 'g_gaap1p5FluxErr', 'g_gaap2p5Flux',\n",
       "       'g_gaap2p5FluxErr', 'g_gaap3p0Flux', 'g_gaap3p0FluxErr',\n",
       "       'g_gaapOptimalFlux', 'g_gaapOptimalFluxErr', 'g_ixx', 'g_iyy',\n",
       "       'g_ixy', 'g_i_flag', 'g_ixxPSF', 'g_iyyPSF', 'g_ixyPSF',\n",
       "       'g_iPSF_flag', 'g_ixxRound', 'g_iyyRound', 'g_ixyRound',\n",
       "       'g_iRound_flag', 'g_ixxDebiasedPSF', 'g_iyyDebiasedPSF',\n",
       "       'g_ixyDebiasedPSF', 'g_iDebiasedPSF_flag', 'g_kronRad',\n",
       "       'g_kronFlux', 'g_kronFluxErr', 'g_calibFlux', 'g_calibFluxErr',\n",
       "       'g_ap03Flux', 'g_ap03FluxErr', 'g_ap03Flux_flag', 'g_ap06Flux',\n",
       "       'g_ap06FluxErr', 'g_ap06Flux_flag', 'g_ap09Flux', 'g_ap09FluxErr',\n",
       "       'g_ap09Flux_flag', 'g_ap12Flux', 'g_ap12FluxErr',\n",
       "       'g_ap12Flux_flag', 'g_ap17Flux', 'g_ap17FluxErr',\n",
       "       'g_ap17Flux_flag', 'g_ap25Flux', 'g_ap25FluxErr',\n",
       "       'g_ap25Flux_flag', 'g_ap35Flux', 'g_ap35FluxErr',\n",
       "       'g_ap35Flux_flag', 'g_ap50Flux', 'g_ap50FluxErr',\n",
       "       'g_ap50Flux_flag', 'g_ap70Flux', 'g_ap70FluxErr',\n",
       "       'g_ap70Flux_flag', 'g_extendedness', 'g_blendedness', 'g_fwhm',\n",
       "       'g_cModelFlux', 'g_cModelFluxErr', 'g_cModelFlux_inner',\n",
       "       'g_free_cModelFlux', 'g_free_cModelFluxErr',\n",
       "       'g_free_cModelFlux_inner', 'g_free_cModelFlux_flag',\n",
       "       'g_hsmShapeRegauss_e1', 'g_hsmShapeRegauss_e2',\n",
       "       'g_hsmShapeRegauss_sigma', 'g_hsmShapeRegauss_flag',\n",
       "       'g_inputCount', 'g_inputCount_flag', 'g_inputCount_flag_noInputs',\n",
       "       'g_psfFlux_area', 'g_psfFlux_flag', 'g_psfFlux_flag_apCorr',\n",
       "       'g_psfFlux_flag_edge', 'g_psfFlux_flag_noGoodPixels',\n",
       "       'g_cModel_flag', 'g_cModel_flag_apCorr', 'g_gaapFlux_flag',\n",
       "       'g_gaapFlux_flag_edge', 'g_gaapFlux_flag_gaussianization',\n",
       "       'g_gaapOptimalFlux_flag_bigPsf', 'g_gaap0p5Flux_flag_bigPsf',\n",
       "       'g_gaap0p7Flux_flag_bigPsf', 'g_gaap1p0Flux_flag_bigPsf',\n",
       "       'g_gaap1p5Flux_flag_bigPsf', 'g_gaap2p5Flux_flag_bigPsf',\n",
       "       'g_gaap3p0Flux_flag_bigPsf', 'g_blendedness_flag',\n",
       "       'g_pixelFlags_bad', 'g_pixelFlags_clipped',\n",
       "       'g_pixelFlags_clippedCenter', 'g_pixelFlags_cr',\n",
       "       'g_pixelFlags_crCenter', 'g_pixelFlags_edge',\n",
       "       'g_pixelFlags_inexact_psf', 'g_pixelFlags_inexact_psfCenter',\n",
       "       'g_pixelFlags_interpolated', 'g_pixelFlags_interpolatedCenter',\n",
       "       'g_pixelFlags_offimage', 'g_pixelFlags_saturated',\n",
       "       'g_pixelFlags_saturatedCenter', 'g_pixelFlags_sensor_edge',\n",
       "       'g_pixelFlags_sensor_edgeCenter', 'g_pixelFlags_suspect',\n",
       "       'g_pixelFlags_suspectCenter', 'g_extendedness_flag',\n",
       "       'g_calib_astrometry_used', 'g_calib_photometry_reserved',\n",
       "       'g_calib_photometry_used', 'g_calib_psf_candidate',\n",
       "       'g_calib_psf_reserved', 'g_calib_psf_used', 'g_apFlux_flag',\n",
       "       'g_apFlux_flag_apertureTruncated',\n",
       "       'g_apFlux_flag_sincCoeffsTruncated', 'g_calibFlux_flag',\n",
       "       'g_calibFlux_flag_apertureTruncated',\n",
       "       'g_calibFlux_flag_sincCoeffsTruncated', 'g_centroid_flag',\n",
       "       'g_centroid_x', 'g_centroid_xErr', 'g_centroid_y',\n",
       "       'g_centroid_yErr', 'g_kronFlux_flag', 'g_kronFlux_flag_bad_radius',\n",
       "       'g_kronFlux_flag_bad_shape', 'g_kronFlux_flag_bad_shape_no_psf',\n",
       "       'g_kronFlux_flag_edge', 'g_kronFlux_flag_no_fallback_radius',\n",
       "       'g_kronFlux_flag_no_minimum_radius',\n",
       "       'g_kronFlux_flag_small_radius',\n",
       "       'g_kronFlux_flag_used_minimum_radius',\n",
       "       'g_kronFlux_flag_used_psf_radius'], dtype=object)"
      ]
     },
     "execution_count": 13,
     "metadata": {},
     "output_type": "execute_result"
    }
   ],
   "source": [
    "objectTable.columns.values"
   ]
  },
  {
   "cell_type": "markdown",
   "id": "cf1ea0e6-2412-4e8e-908c-57a77240e31d",
   "metadata": {
    "execution": {
     "iopub.execute_input": "2023-04-19T04:41:15.719044Z",
     "iopub.status.busy": "2023-04-19T04:41:15.718764Z",
     "iopub.status.idle": "2023-04-19T04:41:15.721677Z",
     "shell.execute_reply": "2023-04-19T04:41:15.721225Z",
     "shell.execute_reply.started": "2023-04-19T04:41:15.719027Z"
    }
   },
   "source": [
    "### Source tables"
   ]
  },
  {
   "cell_type": "code",
   "execution_count": 14,
   "id": "c7df9b9b-8985-4445-b5b3-e29190155a67",
   "metadata": {
    "execution": {
     "iopub.execute_input": "2023-12-23T13:45:38.305382Z",
     "iopub.status.busy": "2023-12-23T13:45:38.304893Z",
     "iopub.status.idle": "2023-12-23T13:45:38.320998Z",
     "shell.execute_reply": "2023-12-23T13:45:38.320577Z",
     "shell.execute_reply.started": "2023-12-23T13:45:38.305367Z"
    },
    "tags": []
   },
   "outputs": [],
   "source": [
    "refs = sorted(registry.queryDatasets(\"sourceTable_visit\"))"
   ]
  },
  {
   "cell_type": "code",
   "execution_count": 13,
   "id": "88711a61-bd88-4fa0-b970-c002f04f19d4",
   "metadata": {
    "execution": {
     "iopub.execute_input": "2023-12-23T14:17:07.701102Z",
     "iopub.status.busy": "2023-12-23T14:17:07.700873Z",
     "iopub.status.idle": "2023-12-23T14:17:07.703616Z",
     "shell.execute_reply": "2023-12-23T14:17:07.703270Z",
     "shell.execute_reply.started": "2023-12-23T14:17:07.701088Z"
    },
    "tags": []
   },
   "outputs": [
    {
     "name": "stdout",
     "output_type": "stream",
     "text": [
      "{skymap: 'latiss_v1', tract: 382}\n",
      "{skymap: 'latiss_v1', tract: 383}\n",
      "{skymap: 'latiss_v1', tract: 452}\n",
      "{skymap: 'latiss_v1', tract: 455}\n",
      "{skymap: 'latiss_v1', tract: 3863}\n",
      "{skymap: 'latiss_v1', tract: 5615}\n",
      "{skymap: 'latiss_v1', tract: 5616}\n",
      "{skymap: 'latiss_v1', tract: 5634}\n",
      "{skymap: 'latiss_v1', tract: 5839}\n",
      "{skymap: 'latiss_v1', tract: 8188}\n",
      "{skymap: 'latiss_v1', tract: 10643}\n",
      "{skymap: 'latiss_v1', tract: 10644}\n"
     ]
    }
   ],
   "source": [
    "for ref in refs: print(ref.dataId.full)"
   ]
  },
  {
   "cell_type": "code",
   "execution_count": 14,
   "id": "9a8cc15d-a550-4d0f-9e88-80934df213f5",
   "metadata": {
    "execution": {
     "iopub.execute_input": "2023-12-23T14:17:17.539246Z",
     "iopub.status.busy": "2023-12-23T14:17:17.538812Z",
     "iopub.status.idle": "2023-12-23T14:17:17.647881Z",
     "shell.execute_reply": "2023-12-23T14:17:17.647498Z",
     "shell.execute_reply.started": "2023-12-23T14:17:17.539226Z"
    },
    "tags": []
   },
   "outputs": [
    {
     "data": {
      "text/html": [
       "<div>\n",
       "<style scoped>\n",
       "    .dataframe tbody tr th:only-of-type {\n",
       "        vertical-align: middle;\n",
       "    }\n",
       "\n",
       "    .dataframe tbody tr th {\n",
       "        vertical-align: top;\n",
       "    }\n",
       "\n",
       "    .dataframe thead th {\n",
       "        text-align: right;\n",
       "    }\n",
       "</style>\n",
       "<table border=\"1\" class=\"dataframe\">\n",
       "  <thead>\n",
       "    <tr style=\"text-align: right;\">\n",
       "      <th>column</th>\n",
       "      <th>detect_isTractInner</th>\n",
       "      <th>refExtendedness</th>\n",
       "      <th>deblend_skipped</th>\n",
       "      <th>coord_ra_dec_Cov</th>\n",
       "      <th>x</th>\n",
       "      <th>detect_isPrimary</th>\n",
       "      <th>deblend_incompleteData</th>\n",
       "      <th>detect_isDeblendedSource</th>\n",
       "      <th>parentObjectId</th>\n",
       "      <th>detect_isIsolated</th>\n",
       "      <th>...</th>\n",
       "      <th>r_kronFlux_flag</th>\n",
       "      <th>r_kronFlux_flag_bad_radius</th>\n",
       "      <th>r_kronFlux_flag_bad_shape</th>\n",
       "      <th>r_kronFlux_flag_bad_shape_no_psf</th>\n",
       "      <th>r_kronFlux_flag_edge</th>\n",
       "      <th>r_kronFlux_flag_no_fallback_radius</th>\n",
       "      <th>r_kronFlux_flag_no_minimum_radius</th>\n",
       "      <th>r_kronFlux_flag_small_radius</th>\n",
       "      <th>r_kronFlux_flag_used_minimum_radius</th>\n",
       "      <th>r_kronFlux_flag_used_psf_radius</th>\n",
       "    </tr>\n",
       "    <tr>\n",
       "      <th>objectId</th>\n",
       "      <th></th>\n",
       "      <th></th>\n",
       "      <th></th>\n",
       "      <th></th>\n",
       "      <th></th>\n",
       "      <th></th>\n",
       "      <th></th>\n",
       "      <th></th>\n",
       "      <th></th>\n",
       "      <th></th>\n",
       "      <th></th>\n",
       "      <th></th>\n",
       "      <th></th>\n",
       "      <th></th>\n",
       "      <th></th>\n",
       "      <th></th>\n",
       "      <th></th>\n",
       "      <th></th>\n",
       "      <th></th>\n",
       "      <th></th>\n",
       "      <th></th>\n",
       "    </tr>\n",
       "  </thead>\n",
       "  <tbody>\n",
       "    <tr>\n",
       "      <th>4225032858915307521</th>\n",
       "      <td>True</td>\n",
       "      <td>NaN</td>\n",
       "      <td>False</td>\n",
       "      <td>-2.605449e-17</td>\n",
       "      <td>29436.962899</td>\n",
       "      <td>False</td>\n",
       "      <td>False</td>\n",
       "      <td>False</td>\n",
       "      <td>0</td>\n",
       "      <td>False</td>\n",
       "      <td>...</td>\n",
       "      <td>False</td>\n",
       "      <td>False</td>\n",
       "      <td>False</td>\n",
       "      <td>False</td>\n",
       "      <td>False</td>\n",
       "      <td>False</td>\n",
       "      <td>False</td>\n",
       "      <td>False</td>\n",
       "      <td>False</td>\n",
       "      <td>False</td>\n",
       "    </tr>\n",
       "    <tr>\n",
       "      <th>4225032858915307523</th>\n",
       "      <td>True</td>\n",
       "      <td>NaN</td>\n",
       "      <td>False</td>\n",
       "      <td>5.399838e-15</td>\n",
       "      <td>28640.000000</td>\n",
       "      <td>False</td>\n",
       "      <td>False</td>\n",
       "      <td>False</td>\n",
       "      <td>0</td>\n",
       "      <td>False</td>\n",
       "      <td>...</td>\n",
       "      <td>True</td>\n",
       "      <td>False</td>\n",
       "      <td>True</td>\n",
       "      <td>False</td>\n",
       "      <td>False</td>\n",
       "      <td>False</td>\n",
       "      <td>False</td>\n",
       "      <td>False</td>\n",
       "      <td>False</td>\n",
       "      <td>False</td>\n",
       "    </tr>\n",
       "    <tr>\n",
       "      <th>4225032858915307524</th>\n",
       "      <td>True</td>\n",
       "      <td>1.0</td>\n",
       "      <td>False</td>\n",
       "      <td>-7.993171e-17</td>\n",
       "      <td>28444.394054</td>\n",
       "      <td>False</td>\n",
       "      <td>False</td>\n",
       "      <td>False</td>\n",
       "      <td>0</td>\n",
       "      <td>False</td>\n",
       "      <td>...</td>\n",
       "      <td>True</td>\n",
       "      <td>False</td>\n",
       "      <td>True</td>\n",
       "      <td>False</td>\n",
       "      <td>False</td>\n",
       "      <td>False</td>\n",
       "      <td>False</td>\n",
       "      <td>False</td>\n",
       "      <td>False</td>\n",
       "      <td>False</td>\n",
       "    </tr>\n",
       "    <tr>\n",
       "      <th>4225032858915307527</th>\n",
       "      <td>True</td>\n",
       "      <td>1.0</td>\n",
       "      <td>False</td>\n",
       "      <td>1.532807e-14</td>\n",
       "      <td>29788.850012</td>\n",
       "      <td>True</td>\n",
       "      <td>False</td>\n",
       "      <td>True</td>\n",
       "      <td>0</td>\n",
       "      <td>True</td>\n",
       "      <td>...</td>\n",
       "      <td>False</td>\n",
       "      <td>False</td>\n",
       "      <td>False</td>\n",
       "      <td>False</td>\n",
       "      <td>False</td>\n",
       "      <td>False</td>\n",
       "      <td>False</td>\n",
       "      <td>False</td>\n",
       "      <td>False</td>\n",
       "      <td>False</td>\n",
       "    </tr>\n",
       "    <tr>\n",
       "      <th>4225032858915307528</th>\n",
       "      <td>True</td>\n",
       "      <td>NaN</td>\n",
       "      <td>False</td>\n",
       "      <td>NaN</td>\n",
       "      <td>28908.000000</td>\n",
       "      <td>True</td>\n",
       "      <td>False</td>\n",
       "      <td>True</td>\n",
       "      <td>0</td>\n",
       "      <td>True</td>\n",
       "      <td>...</td>\n",
       "      <td>True</td>\n",
       "      <td>True</td>\n",
       "      <td>True</td>\n",
       "      <td>False</td>\n",
       "      <td>False</td>\n",
       "      <td>False</td>\n",
       "      <td>False</td>\n",
       "      <td>True</td>\n",
       "      <td>False</td>\n",
       "      <td>True</td>\n",
       "    </tr>\n",
       "    <tr>\n",
       "      <th>...</th>\n",
       "      <td>...</td>\n",
       "      <td>...</td>\n",
       "      <td>...</td>\n",
       "      <td>...</td>\n",
       "      <td>...</td>\n",
       "      <td>...</td>\n",
       "      <td>...</td>\n",
       "      <td>...</td>\n",
       "      <td>...</td>\n",
       "      <td>...</td>\n",
       "      <td>...</td>\n",
       "      <td>...</td>\n",
       "      <td>...</td>\n",
       "      <td>...</td>\n",
       "      <td>...</td>\n",
       "      <td>...</td>\n",
       "      <td>...</td>\n",
       "      <td>...</td>\n",
       "      <td>...</td>\n",
       "      <td>...</td>\n",
       "      <td>...</td>\n",
       "    </tr>\n",
       "    <tr>\n",
       "      <th>4225084535961813707</th>\n",
       "      <td>False</td>\n",
       "      <td>NaN</td>\n",
       "      <td>False</td>\n",
       "      <td>NaN</td>\n",
       "      <td>55201.000000</td>\n",
       "      <td>False</td>\n",
       "      <td>False</td>\n",
       "      <td>False</td>\n",
       "      <td>4225084535961813125</td>\n",
       "      <td>True</td>\n",
       "      <td>...</td>\n",
       "      <td>True</td>\n",
       "      <td>False</td>\n",
       "      <td>True</td>\n",
       "      <td>False</td>\n",
       "      <td>False</td>\n",
       "      <td>False</td>\n",
       "      <td>False</td>\n",
       "      <td>False</td>\n",
       "      <td>False</td>\n",
       "      <td>False</td>\n",
       "    </tr>\n",
       "    <tr>\n",
       "      <th>4225084535961813708</th>\n",
       "      <td>True</td>\n",
       "      <td>NaN</td>\n",
       "      <td>False</td>\n",
       "      <td>NaN</td>\n",
       "      <td>54130.000000</td>\n",
       "      <td>False</td>\n",
       "      <td>False</td>\n",
       "      <td>False</td>\n",
       "      <td>4225084535961813126</td>\n",
       "      <td>True</td>\n",
       "      <td>...</td>\n",
       "      <td>True</td>\n",
       "      <td>False</td>\n",
       "      <td>True</td>\n",
       "      <td>False</td>\n",
       "      <td>False</td>\n",
       "      <td>False</td>\n",
       "      <td>False</td>\n",
       "      <td>False</td>\n",
       "      <td>False</td>\n",
       "      <td>False</td>\n",
       "    </tr>\n",
       "    <tr>\n",
       "      <th>4225084535961813709</th>\n",
       "      <td>True</td>\n",
       "      <td>NaN</td>\n",
       "      <td>False</td>\n",
       "      <td>NaN</td>\n",
       "      <td>54510.000000</td>\n",
       "      <td>False</td>\n",
       "      <td>False</td>\n",
       "      <td>False</td>\n",
       "      <td>4225084535961813127</td>\n",
       "      <td>True</td>\n",
       "      <td>...</td>\n",
       "      <td>True</td>\n",
       "      <td>False</td>\n",
       "      <td>True</td>\n",
       "      <td>False</td>\n",
       "      <td>False</td>\n",
       "      <td>False</td>\n",
       "      <td>False</td>\n",
       "      <td>False</td>\n",
       "      <td>False</td>\n",
       "      <td>False</td>\n",
       "    </tr>\n",
       "    <tr>\n",
       "      <th>4225084535961813710</th>\n",
       "      <td>True</td>\n",
       "      <td>NaN</td>\n",
       "      <td>False</td>\n",
       "      <td>NaN</td>\n",
       "      <td>54455.000000</td>\n",
       "      <td>False</td>\n",
       "      <td>False</td>\n",
       "      <td>False</td>\n",
       "      <td>4225084535961813128</td>\n",
       "      <td>True</td>\n",
       "      <td>...</td>\n",
       "      <td>True</td>\n",
       "      <td>False</td>\n",
       "      <td>True</td>\n",
       "      <td>False</td>\n",
       "      <td>False</td>\n",
       "      <td>False</td>\n",
       "      <td>False</td>\n",
       "      <td>False</td>\n",
       "      <td>False</td>\n",
       "      <td>False</td>\n",
       "    </tr>\n",
       "    <tr>\n",
       "      <th>4225084535961813711</th>\n",
       "      <td>True</td>\n",
       "      <td>NaN</td>\n",
       "      <td>False</td>\n",
       "      <td>NaN</td>\n",
       "      <td>54161.000000</td>\n",
       "      <td>False</td>\n",
       "      <td>False</td>\n",
       "      <td>False</td>\n",
       "      <td>4225084535961813129</td>\n",
       "      <td>True</td>\n",
       "      <td>...</td>\n",
       "      <td>True</td>\n",
       "      <td>False</td>\n",
       "      <td>True</td>\n",
       "      <td>False</td>\n",
       "      <td>False</td>\n",
       "      <td>False</td>\n",
       "      <td>False</td>\n",
       "      <td>False</td>\n",
       "      <td>False</td>\n",
       "      <td>False</td>\n",
       "    </tr>\n",
       "  </tbody>\n",
       "</table>\n",
       "<p>7861 rows × 526 columns</p>\n",
       "</div>"
      ],
      "text/plain": [
       "column               detect_isTractInner  refExtendedness  deblend_skipped  \\\n",
       "objectId                                                                     \n",
       "4225032858915307521                 True              NaN            False   \n",
       "4225032858915307523                 True              NaN            False   \n",
       "4225032858915307524                 True              1.0            False   \n",
       "4225032858915307527                 True              1.0            False   \n",
       "4225032858915307528                 True              NaN            False   \n",
       "...                                  ...              ...              ...   \n",
       "4225084535961813707                False              NaN            False   \n",
       "4225084535961813708                 True              NaN            False   \n",
       "4225084535961813709                 True              NaN            False   \n",
       "4225084535961813710                 True              NaN            False   \n",
       "4225084535961813711                 True              NaN            False   \n",
       "\n",
       "column               coord_ra_dec_Cov             x  detect_isPrimary  \\\n",
       "objectId                                                                \n",
       "4225032858915307521     -2.605449e-17  29436.962899             False   \n",
       "4225032858915307523      5.399838e-15  28640.000000             False   \n",
       "4225032858915307524     -7.993171e-17  28444.394054             False   \n",
       "4225032858915307527      1.532807e-14  29788.850012              True   \n",
       "4225032858915307528               NaN  28908.000000              True   \n",
       "...                               ...           ...               ...   \n",
       "4225084535961813707               NaN  55201.000000             False   \n",
       "4225084535961813708               NaN  54130.000000             False   \n",
       "4225084535961813709               NaN  54510.000000             False   \n",
       "4225084535961813710               NaN  54455.000000             False   \n",
       "4225084535961813711               NaN  54161.000000             False   \n",
       "\n",
       "column               deblend_incompleteData  detect_isDeblendedSource  \\\n",
       "objectId                                                                \n",
       "4225032858915307521                   False                     False   \n",
       "4225032858915307523                   False                     False   \n",
       "4225032858915307524                   False                     False   \n",
       "4225032858915307527                   False                      True   \n",
       "4225032858915307528                   False                      True   \n",
       "...                                     ...                       ...   \n",
       "4225084535961813707                   False                     False   \n",
       "4225084535961813708                   False                     False   \n",
       "4225084535961813709                   False                     False   \n",
       "4225084535961813710                   False                     False   \n",
       "4225084535961813711                   False                     False   \n",
       "\n",
       "column                    parentObjectId  detect_isIsolated  ...  \\\n",
       "objectId                                                     ...   \n",
       "4225032858915307521                    0              False  ...   \n",
       "4225032858915307523                    0              False  ...   \n",
       "4225032858915307524                    0              False  ...   \n",
       "4225032858915307527                    0               True  ...   \n",
       "4225032858915307528                    0               True  ...   \n",
       "...                                  ...                ...  ...   \n",
       "4225084535961813707  4225084535961813125               True  ...   \n",
       "4225084535961813708  4225084535961813126               True  ...   \n",
       "4225084535961813709  4225084535961813127               True  ...   \n",
       "4225084535961813710  4225084535961813128               True  ...   \n",
       "4225084535961813711  4225084535961813129               True  ...   \n",
       "\n",
       "column               r_kronFlux_flag  r_kronFlux_flag_bad_radius  \\\n",
       "objectId                                                           \n",
       "4225032858915307521            False                       False   \n",
       "4225032858915307523             True                       False   \n",
       "4225032858915307524             True                       False   \n",
       "4225032858915307527            False                       False   \n",
       "4225032858915307528             True                        True   \n",
       "...                              ...                         ...   \n",
       "4225084535961813707             True                       False   \n",
       "4225084535961813708             True                       False   \n",
       "4225084535961813709             True                       False   \n",
       "4225084535961813710             True                       False   \n",
       "4225084535961813711             True                       False   \n",
       "\n",
       "column               r_kronFlux_flag_bad_shape  \\\n",
       "objectId                                         \n",
       "4225032858915307521                      False   \n",
       "4225032858915307523                       True   \n",
       "4225032858915307524                       True   \n",
       "4225032858915307527                      False   \n",
       "4225032858915307528                       True   \n",
       "...                                        ...   \n",
       "4225084535961813707                       True   \n",
       "4225084535961813708                       True   \n",
       "4225084535961813709                       True   \n",
       "4225084535961813710                       True   \n",
       "4225084535961813711                       True   \n",
       "\n",
       "column               r_kronFlux_flag_bad_shape_no_psf  r_kronFlux_flag_edge  \\\n",
       "objectId                                                                      \n",
       "4225032858915307521                             False                 False   \n",
       "4225032858915307523                             False                 False   \n",
       "4225032858915307524                             False                 False   \n",
       "4225032858915307527                             False                 False   \n",
       "4225032858915307528                             False                 False   \n",
       "...                                               ...                   ...   \n",
       "4225084535961813707                             False                 False   \n",
       "4225084535961813708                             False                 False   \n",
       "4225084535961813709                             False                 False   \n",
       "4225084535961813710                             False                 False   \n",
       "4225084535961813711                             False                 False   \n",
       "\n",
       "column               r_kronFlux_flag_no_fallback_radius  \\\n",
       "objectId                                                  \n",
       "4225032858915307521                               False   \n",
       "4225032858915307523                               False   \n",
       "4225032858915307524                               False   \n",
       "4225032858915307527                               False   \n",
       "4225032858915307528                               False   \n",
       "...                                                 ...   \n",
       "4225084535961813707                               False   \n",
       "4225084535961813708                               False   \n",
       "4225084535961813709                               False   \n",
       "4225084535961813710                               False   \n",
       "4225084535961813711                               False   \n",
       "\n",
       "column               r_kronFlux_flag_no_minimum_radius  \\\n",
       "objectId                                                 \n",
       "4225032858915307521                              False   \n",
       "4225032858915307523                              False   \n",
       "4225032858915307524                              False   \n",
       "4225032858915307527                              False   \n",
       "4225032858915307528                              False   \n",
       "...                                                ...   \n",
       "4225084535961813707                              False   \n",
       "4225084535961813708                              False   \n",
       "4225084535961813709                              False   \n",
       "4225084535961813710                              False   \n",
       "4225084535961813711                              False   \n",
       "\n",
       "column               r_kronFlux_flag_small_radius  \\\n",
       "objectId                                            \n",
       "4225032858915307521                         False   \n",
       "4225032858915307523                         False   \n",
       "4225032858915307524                         False   \n",
       "4225032858915307527                         False   \n",
       "4225032858915307528                          True   \n",
       "...                                           ...   \n",
       "4225084535961813707                         False   \n",
       "4225084535961813708                         False   \n",
       "4225084535961813709                         False   \n",
       "4225084535961813710                         False   \n",
       "4225084535961813711                         False   \n",
       "\n",
       "column               r_kronFlux_flag_used_minimum_radius  \\\n",
       "objectId                                                   \n",
       "4225032858915307521                                False   \n",
       "4225032858915307523                                False   \n",
       "4225032858915307524                                False   \n",
       "4225032858915307527                                False   \n",
       "4225032858915307528                                False   \n",
       "...                                                  ...   \n",
       "4225084535961813707                                False   \n",
       "4225084535961813708                                False   \n",
       "4225084535961813709                                False   \n",
       "4225084535961813710                                False   \n",
       "4225084535961813711                                False   \n",
       "\n",
       "column               r_kronFlux_flag_used_psf_radius  \n",
       "objectId                                              \n",
       "4225032858915307521                            False  \n",
       "4225032858915307523                            False  \n",
       "4225032858915307524                            False  \n",
       "4225032858915307527                            False  \n",
       "4225032858915307528                             True  \n",
       "...                                              ...  \n",
       "4225084535961813707                            False  \n",
       "4225084535961813708                            False  \n",
       "4225084535961813709                            False  \n",
       "4225084535961813710                            False  \n",
       "4225084535961813711                            False  \n",
       "\n",
       "[7861 rows x 526 columns]"
      ]
     },
     "execution_count": 14,
     "metadata": {},
     "output_type": "execute_result"
    }
   ],
   "source": [
    "sourceTable = butler.get(refs[-1])\n",
    "sourceTable"
   ]
  },
  {
   "cell_type": "code",
   "execution_count": 17,
   "id": "6eec9b9f-ac5a-4b0f-9c7f-449ac4e33bf1",
   "metadata": {
    "execution": {
     "iopub.execute_input": "2023-12-23T13:46:25.092100Z",
     "iopub.status.busy": "2023-12-23T13:46:25.091765Z",
     "iopub.status.idle": "2023-12-23T13:46:25.095460Z",
     "shell.execute_reply": "2023-12-23T13:46:25.095000Z",
     "shell.execute_reply.started": "2023-12-23T13:46:25.092086Z"
    },
    "tags": []
   },
   "outputs": [
    {
     "data": {
      "text/plain": [
       "array(['coord_ra', 'coord_dec', 'ccdVisitId', 'parentSourceId', 'x', 'y',\n",
       "       'xErr', 'yErr', 'ra', 'decl', 'calibFlux', 'calibFluxErr',\n",
       "       'ap03Flux', 'ap03FluxErr', 'ap03Flux_flag', 'ap06Flux',\n",
       "       'ap06FluxErr', 'ap06Flux_flag', 'ap09Flux', 'ap09FluxErr',\n",
       "       'ap09Flux_flag', 'ap12Flux', 'ap12FluxErr', 'ap12Flux_flag',\n",
       "       'ap17Flux', 'ap17FluxErr', 'ap17Flux_flag', 'ap25Flux',\n",
       "       'ap25FluxErr', 'ap25Flux_flag', 'ap35Flux', 'ap35FluxErr',\n",
       "       'ap35Flux_flag', 'ap50Flux', 'ap50FluxErr', 'ap50Flux_flag',\n",
       "       'ap70Flux', 'ap70FluxErr', 'ap70Flux_flag', 'sky', 'skyErr',\n",
       "       'psfFlux', 'psfFluxErr', 'ixx', 'iyy', 'ixy', 'ixxPSF', 'iyyPSF',\n",
       "       'ixyPSF', 'ixxDebiasedPSF', 'iyyDebiasedPSF', 'ixyDebiasedPSF',\n",
       "       'gaussianFlux', 'gaussianFluxErr', 'extendedness',\n",
       "       'localPhotoCalib', 'localPhotoCalib_flag', 'localPhotoCalibErr',\n",
       "       'localWcs_flag', 'localWcs_CDMatrix_2_1', 'localWcs_CDMatrix_1_1',\n",
       "       'localWcs_CDMatrix_1_2', 'localWcs_CDMatrix_2_2',\n",
       "       'blendedness_abs', 'blendedness_flag',\n",
       "       'blendedness_flag_noCentroid', 'blendedness_flag_noShape',\n",
       "       'apFlux_12_0_flag', 'apFlux_12_0_flag_apertureTruncated',\n",
       "       'apFlux_12_0_flag_sincCoeffsTruncated', 'apFlux_12_0_instFlux',\n",
       "       'apFlux_12_0_instFluxErr', 'apFlux_17_0_flag',\n",
       "       'apFlux_17_0_instFlux', 'apFlux_17_0_instFluxErr',\n",
       "       'extendedness_flag', 'footprintArea_value', 'jacobian_flag',\n",
       "       'jacobian_value', 'localBackground_instFlux',\n",
       "       'localBackground_instFluxErr', 'localBackground_flag',\n",
       "       'localBackground_flag_noGoodPixels', 'localBackground_flag_noPsf',\n",
       "       'pixelFlags_bad', 'pixelFlags_cr', 'pixelFlags_crCenter',\n",
       "       'pixelFlags_edge', 'pixelFlags_interpolated',\n",
       "       'pixelFlags_interpolatedCenter', 'pixelFlags_offimage',\n",
       "       'pixelFlags_saturated', 'pixelFlags_saturatedCenter',\n",
       "       'pixelFlags_suspect', 'pixelFlags_suspectCenter', 'psfFlux_apCorr',\n",
       "       'psfFlux_apCorrErr', 'psfFlux_area', 'psfFlux_flag',\n",
       "       'psfFlux_flag_apCorr', 'psfFlux_flag_edge',\n",
       "       'psfFlux_flag_noGoodPixels', 'gaussianFlux_flag', 'centroid_flag',\n",
       "       'centroid_flag_almostNoSecondDerivative', 'centroid_flag_badError',\n",
       "       'centroid_flag_edge', 'centroid_flag_noSecondDerivative',\n",
       "       'centroid_flag_notAtMaximum', 'centroid_flag_resetToPeak',\n",
       "       'variance_flag', 'variance_flag_emptyFootprint', 'variance_value',\n",
       "       'calib_astrometry_used', 'calib_detected',\n",
       "       'calib_photometry_reserved', 'calib_photometry_used',\n",
       "       'calib_psf_candidate', 'calib_psf_reserved', 'calib_psf_used',\n",
       "       'deblend_deblendedAsPsf', 'deblend_hasStrayFlux', 'deblend_masked',\n",
       "       'deblend_nChild', 'deblend_parentTooBig',\n",
       "       'deblend_patchedTemplate', 'deblend_rampedTemplate',\n",
       "       'deblend_skipped', 'deblend_tooManyPeaks', 'hsmPsfMoments_flag',\n",
       "       'hsmPsfMoments_flag_no_pixels', 'hsmPsfMoments_flag_not_contained',\n",
       "       'hsmPsfMoments_flag_parent_source', 'iDebiasedPSF_flag',\n",
       "       'iDebiasedPSF_flag_no_pixels', 'iDebiasedPSF_flag_not_contained',\n",
       "       'iDebiasedPSF_flag_parent_source', 'iDebiasedPSF_flag_galsim',\n",
       "       'iDebiasedPSF_flag_edge', 'hsmShapeRegauss_flag',\n",
       "       'hsmShapeRegauss_flag_galsim', 'hsmShapeRegauss_flag_no_pixels',\n",
       "       'hsmShapeRegauss_flag_not_contained',\n",
       "       'hsmShapeRegauss_flag_parent_source', 'sky_source',\n",
       "       'detect_isPrimary', 'visit', 'detector', 'band', 'physical_filter'],\n",
       "      dtype=object)"
      ]
     },
     "execution_count": 17,
     "metadata": {},
     "output_type": "execute_result"
    }
   ],
   "source": [
    "sourceTable.columns.values"
   ]
  },
  {
   "cell_type": "markdown",
   "id": "3d4e07fc-a438-47b0-aadb-2af33ec3d516",
   "metadata": {
    "tags": []
   },
   "source": [
    "## Run `analysis_tools` interactively\n",
    "\n",
    "Run an `AnalysisTool` interactively in a notebook by passing in-memory data inputs to create metrics and diagnostic plots.\n",
    "\n",
    "In this example, we compute PSF model size residuals relative to the observed PSF size."
   ]
  },
  {
   "cell_type": "code",
   "execution_count": 15,
   "id": "4c8b30ae-d864-42d9-9bb1-4866b7d25d81",
   "metadata": {
    "execution": {
     "iopub.execute_input": "2023-12-23T14:17:23.418783Z",
     "iopub.status.busy": "2023-12-23T14:17:23.418492Z",
     "iopub.status.idle": "2023-12-23T14:17:27.361192Z",
     "shell.execute_reply": "2023-12-23T14:17:27.360711Z",
     "shell.execute_reply.started": "2023-12-23T14:17:23.418769Z"
    },
    "tags": []
   },
   "outputs": [
    {
     "name": "stderr",
     "output_type": "stream",
     "text": [
      "/home/d/dagoret/repos/repos_w_2023_44/analysis_tools/python/lsst/analysis/tools/tasks/astrometricCatalogMatch.py:35: FutureWarning: lsst.pipe.tasks.configurableActions is deprecated; it has been moved to lsst.pex.config.configurableActions. Accessing though lsst.pipe.tasks will be removed from Science Pipelines after release 26.0.0\n",
      "  from lsst.pipe.tasks.configurableActions import ConfigurableActionStructField\n"
     ]
    }
   ],
   "source": [
    "from lsst.analysis.tools.atools import ShapeSizeFractionalDiff\n",
    "from lsst.analysis.tools.interfaces._task import _StandinPlotInfo\n",
    "from lsst.analysis.tools.interfaces import NoPlot"
   ]
  },
  {
   "cell_type": "code",
   "execution_count": 16,
   "id": "e103cb45-932c-45b7-a39b-b921f12a0da5",
   "metadata": {
    "execution": {
     "iopub.execute_input": "2023-12-23T14:17:27.905298Z",
     "iopub.status.busy": "2023-12-23T14:17:27.904811Z",
     "iopub.status.idle": "2023-12-23T14:17:27.916877Z",
     "shell.execute_reply": "2023-12-23T14:17:27.916464Z",
     "shell.execute_reply.started": "2023-12-23T14:17:27.905280Z"
    },
    "tags": []
   },
   "outputs": [],
   "source": [
    "atool = ShapeSizeFractionalDiff()\n",
    "atool.produce.plot.addSummaryPlot = False\n",
    "\n",
    "# Do not produce plot; only metric values\n",
    "#atool.produce.plot = NoPlot() \n",
    "\n",
    "# Apply the updated configuration\n",
    "atool.finalize()"
   ]
  },
  {
   "cell_type": "markdown",
   "id": "f89e188f-d418-46f4-8bfb-81cc89012662",
   "metadata": {
    "execution": {
     "iopub.execute_input": "2023-05-03T05:46:38.219181Z",
     "iopub.status.busy": "2023-05-03T05:46:38.218965Z",
     "iopub.status.idle": "2023-05-03T05:46:38.222496Z",
     "shell.execute_reply": "2023-05-03T05:46:38.221961Z",
     "shell.execute_reply.started": "2023-05-03T05:46:38.219165Z"
    },
    "tags": []
   },
   "source": [
    "Notice that the returned metric values match summary statistics displayed on the plot"
   ]
  },
  {
   "cell_type": "code",
   "execution_count": 17,
   "id": "467a2791-9303-4520-a3f9-18547dff5da2",
   "metadata": {
    "execution": {
     "iopub.execute_input": "2023-12-23T14:17:30.250445Z",
     "iopub.status.busy": "2023-12-23T14:17:30.249857Z",
     "iopub.status.idle": "2023-12-23T14:17:31.267364Z",
     "shell.execute_reply": "2023-12-23T14:17:31.266926Z",
     "shell.execute_reply.started": "2023-12-23T14:17:30.250430Z"
    },
    "tags": []
   },
   "outputs": [
    {
     "name": "stderr",
     "output_type": "stream",
     "text": [
      "/home/d/dagoret/repos/repos_w_2023_44/analysis_tools/python/lsst/analysis/tools/actions/plot/scatterplotWithTwoHists.py:645: UserWarning: Attempting to set identical low and high ylims makes transformation singular; automatically expanding.\n",
      "  ax.set_ylim(yLimMin, yLimMax)\n"
     ]
    },
    {
     "data": {
      "text/plain": [
       "{'ScatterPlotWithTwoHists': <Figure size 1920x1440 with 3 Axes>,\n",
       " 'i_highSNStars_median': Measurement('i_highSNStars_median', <Quantity nan pix>, notes={'i_highSNStars_median.metric_tags': []}),\n",
       " 'i_highSNStars_sigmaMad': Measurement('i_highSNStars_sigmaMad', <Quantity nan pix>, notes={'i_highSNStars_sigmaMad.metric_tags': []}),\n",
       " 'i_highSNStars_count': Measurement('i_highSNStars_count', <Quantity 0. ct>, notes={'i_highSNStars_count.metric_tags': []}),\n",
       " 'i_lowSNStars_median': Measurement('i_lowSNStars_median', <Quantity nan pix>, notes={'i_lowSNStars_median.metric_tags': []}),\n",
       " 'i_lowSNStars_sigmaMad': Measurement('i_lowSNStars_sigmaMad', <Quantity nan pix>, notes={'i_lowSNStars_sigmaMad.metric_tags': []}),\n",
       " 'i_lowSNStars_count': Measurement('i_lowSNStars_count', <Quantity 0. ct>, notes={'i_lowSNStars_count.metric_tags': []})}"
      ]
     },
     "execution_count": 17,
     "metadata": {},
     "output_type": "execute_result"
    },
    {
     "data": {
      "image/png": "[encoded data removed]",
      "text/plain": [
       "<Figure size 1920x1440 with 3 Axes>"
      ]
     },
     "metadata": {},
     "output_type": "display_data"
    }
   ],
   "source": [
    "results = atool(objectTable, band='i', skymap=None, plotInfo=_StandinPlotInfo())\n",
    "results"
   ]
  },
  {
   "cell_type": "markdown",
   "id": "1909412c-2c20-4ab4-bd44-d60533313b43",
   "metadata": {
    "execution": {
     "iopub.execute_input": "2023-05-04T01:33:22.746626Z",
     "iopub.status.busy": "2023-05-04T01:33:22.746379Z",
     "iopub.status.idle": "2023-05-04T01:33:22.749197Z",
     "shell.execute_reply": "2023-05-04T01:33:22.748767Z",
     "shell.execute_reply.started": "2023-05-04T01:33:22.746610Z"
    },
    "tags": []
   },
   "source": [
    "## ConfigurableActions are the atomic bits of `analysis_tools`\n",
    "\n",
    "We introduce core concepts of the `analysis_tools` package, starting with the idea of [ConfigurableAction](https://pipelines.lsst.io/v/weekly/modules/lsst.pex.config/overview.html#specialized-config-subclasses)s, or actions for short."
   ]
  },
  {
   "cell_type": "markdown",
   "id": "f0962a7d-4ef8-4764-87bb-14fb4b736d86",
   "metadata": {},
   "source": [
    "### Terminology\n",
    "\n",
    "Data Types (many of the [actions in analysis_tools](https://github.com/lsst/analysis_tools/tree/main/python/lsst/analysis/tools/actions) are grouped according to the resultant data type)\n",
    "* `Scalar`: Something that is number like (int, float, numpy.float32 etc.)\n",
    "* `Vector`: Something that is ndarray like\n",
    "* `KeyedData`: Anything that is indexed by a string that can return a Vector, or Scalar\n",
    "\n",
    "Analysis Structures\n",
    "* `ConfigurableAction`: generic interface for function-like objects (actions) that have state which can be set during configuration\n",
    "* `AnalysisAction`: A ConfigurableAction subclass that is specialized for actions that function in analysis contexts\n",
    "* `AnalysisTool`: A top level \"container\" of multiple AnalysisActions which performs one type of analysis\n",
    "\n",
    "We dive into the later two in more detail below"
   ]
  },
  {
   "cell_type": "markdown",
   "id": "ca962680-ff78-4782-a373-f121c8a97b34",
   "metadata": {},
   "source": [
    "### Using AnalysisActions\n",
    "\n",
    "- Configurable `AnalysisActions` are the atomic bits of `analysis_tools`. They can be combined together to make more complex actions, or used as part of an AnalysisTool\n",
    "- We show some examples of using configurable actions like standalone functions to provide intution for how configurable actions work.\n",
    "- Show examples with KeyedDataActions, VectorActions (including selectors), and ScalarActions\n",
    "- Show examples of configuration"
   ]
  },
  {
   "cell_type": "markdown",
   "id": "e6a8dbc4-be1e-4f1a-92fe-03b289ae361b",
   "metadata": {},
   "source": [
    "Let's use actions to compute the measured PSF size for a set of stars from an object catalog."
   ]
  },
  {
   "cell_type": "code",
   "execution_count": 18,
   "id": "d35c8e85-b8b3-4cd1-9d3f-08791afc01e5",
   "metadata": {
    "execution": {
     "iopub.execute_input": "2023-12-23T14:17:38.664413Z",
     "iopub.status.busy": "2023-12-23T14:17:38.663841Z",
     "iopub.status.idle": "2023-12-23T14:17:38.749980Z",
     "shell.execute_reply": "2023-12-23T14:17:38.749415Z",
     "shell.execute_reply.started": "2023-12-23T14:17:38.664397Z"
    },
    "tags": []
   },
   "outputs": [
    {
     "ename": "ImportError",
     "evalue": "cannot import name 'CalcShapeSize' from 'lsst.analysis.tools.actions.vector' (/home/d/dagoret/repos/repos_w_2023_44/analysis_tools/python/lsst/analysis/tools/actions/vector/__init__.py)",
     "output_type": "error",
     "traceback": [
      "\u001b[0;31m---------------------------------------------------------------------------\u001b[0m",
      "\u001b[0;31mImportError\u001b[0m                               Traceback (most recent call last)",
      "Cell \u001b[0;32mIn[18], line 1\u001b[0m\n\u001b[0;32m----> 1\u001b[0m \u001b[38;5;28;01mfrom\u001b[39;00m \u001b[38;5;21;01mlsst\u001b[39;00m\u001b[38;5;21;01m.\u001b[39;00m\u001b[38;5;21;01manalysis\u001b[39;00m\u001b[38;5;21;01m.\u001b[39;00m\u001b[38;5;21;01mtools\u001b[39;00m\u001b[38;5;21;01m.\u001b[39;00m\u001b[38;5;21;01mactions\u001b[39;00m\u001b[38;5;21;01m.\u001b[39;00m\u001b[38;5;21;01mvector\u001b[39;00m \u001b[38;5;28;01mimport\u001b[39;00m CalcShapeSize, ConvertFluxToMag\n",
      "\u001b[0;31mImportError\u001b[0m: cannot import name 'CalcShapeSize' from 'lsst.analysis.tools.actions.vector' (/home/d/dagoret/repos/repos_w_2023_44/analysis_tools/python/lsst/analysis/tools/actions/vector/__init__.py)"
     ]
    }
   ],
   "source": [
    "from lsst.analysis.tools.actions.vector import CalcShapeSize, ConvertFluxToMag"
   ]
  },
  {
   "cell_type": "code",
   "execution_count": null,
   "id": "9bba4288-5612-4add-8c90-6134a814da02",
   "metadata": {
    "execution": {
     "iopub.status.busy": "2023-12-23T13:44:01.581950Z",
     "iopub.status.idle": "2023-12-23T13:44:01.582101Z",
     "shell.execute_reply": "2023-12-23T13:44:01.582032Z",
     "shell.execute_reply.started": "2023-12-23T13:44:01.582026Z"
    },
    "tags": []
   },
   "outputs": [],
   "source": [
    "sizeCalculator = CalcShapeSize()"
   ]
  },
  {
   "cell_type": "code",
   "execution_count": null,
   "id": "df3f4c5a-178e-461c-a123-37c73d3166e5",
   "metadata": {
    "execution": {
     "iopub.status.busy": "2023-12-23T13:44:01.582610Z",
     "iopub.status.idle": "2023-12-23T13:44:01.582808Z",
     "shell.execute_reply": "2023-12-23T13:44:01.582728Z",
     "shell.execute_reply.started": "2023-12-23T13:44:01.582721Z"
    },
    "tags": []
   },
   "outputs": [],
   "source": [
    "# Inspect the configuration of this object.\n",
    "pprint(sizeCalculator.toDict())"
   ]
  },
  {
   "cell_type": "code",
   "execution_count": null,
   "id": "529f9254-c983-4c15-889f-e37ae3959d69",
   "metadata": {
    "execution": {
     "iopub.status.busy": "2023-12-23T13:44:01.583256Z",
     "iopub.status.idle": "2023-12-23T13:44:01.583406Z",
     "shell.execute_reply": "2023-12-23T13:44:01.583337Z",
     "shell.execute_reply.started": "2023-12-23T13:44:01.583329Z"
    },
    "tags": []
   },
   "outputs": [],
   "source": [
    "# Inspect the required input schema, notice that we will need to provide the band information\n",
    "sizeCalculator.getInputSchema()"
   ]
  },
  {
   "cell_type": "code",
   "execution_count": null,
   "id": "bcac39ad-74a3-4aae-b183-58158569cbb6",
   "metadata": {
    "execution": {
     "iopub.status.busy": "2023-12-23T13:44:01.583874Z",
     "iopub.status.idle": "2023-12-23T13:44:01.584074Z",
     "shell.execute_reply": "2023-12-23T13:44:01.584000Z",
     "shell.execute_reply.started": "2023-12-23T13:44:01.583993Z"
    },
    "tags": []
   },
   "outputs": [],
   "source": [
    "size = sizeCalculator(objectTable, band='i')\n",
    "print(size)"
   ]
  },
  {
   "cell_type": "markdown",
   "id": "9a2e3e59-105e-4a28-b3d6-648c93b7f079",
   "metadata": {},
   "source": [
    "In the next example, we show how to configure an action"
   ]
  },
  {
   "cell_type": "code",
   "execution_count": 22,
   "id": "4162b9cc-3b9c-404b-94d3-d46ffb443989",
   "metadata": {
    "execution": {
     "iopub.execute_input": "2023-12-23T13:47:34.189940Z",
     "iopub.status.busy": "2023-12-23T13:47:34.189723Z",
     "iopub.status.idle": "2023-12-23T13:47:34.204667Z",
     "shell.execute_reply": "2023-12-23T13:47:34.204228Z",
     "shell.execute_reply.started": "2023-12-23T13:47:34.189927Z"
    },
    "tags": []
   },
   "outputs": [
    {
     "ename": "NameError",
     "evalue": "name 'ConvertFluxToMag' is not defined",
     "output_type": "error",
     "traceback": [
      "\u001b[0;31m---------------------------------------------------------------------------\u001b[0m",
      "\u001b[0;31mNameError\u001b[0m                                 Traceback (most recent call last)",
      "Cell \u001b[0;32mIn[22], line 2\u001b[0m\n\u001b[1;32m      1\u001b[0m \u001b[38;5;66;03m# Another example, this time to convert fluxes to magnitudes\u001b[39;00m\n\u001b[0;32m----> 2\u001b[0m magConverter \u001b[38;5;241m=\u001b[39m \u001b[43mConvertFluxToMag\u001b[49m()\n\u001b[1;32m      3\u001b[0m magConverter\u001b[38;5;241m.\u001b[39mvectorKey\u001b[38;5;241m=\u001b[39m\u001b[38;5;124m'\u001b[39m\u001b[38;5;132;01m{band}\u001b[39;00m\u001b[38;5;124m_psfFlux\u001b[39m\u001b[38;5;124m'\u001b[39m\n\u001b[1;32m      4\u001b[0m mag \u001b[38;5;241m=\u001b[39m magConverter(objectTable, band\u001b[38;5;241m=\u001b[39m\u001b[38;5;124m'\u001b[39m\u001b[38;5;124mi\u001b[39m\u001b[38;5;124m'\u001b[39m)\n",
      "\u001b[0;31mNameError\u001b[0m: name 'ConvertFluxToMag' is not defined"
     ]
    }
   ],
   "source": [
    "# Another example, this time to convert fluxes to magnitudes\n",
    "magConverter = ConvertFluxToMag()\n",
    "magConverter.vectorKey='{band}_psfFlux'\n",
    "mag = magConverter(objectTable, band='i')\n",
    "\n",
    "# Notice that the lines above is equiavalent to the following\n",
    "magConverterAlternate = ConvertFluxToMag()\n",
    "magConverterAlternate.vectorKey='i_psfFlux'\n",
    "magAlternate = magConverterAlternate(objectTable)\n",
    "\n",
    "# Confirm the results match\n",
    "assert np.allclose(mag, magAlternate, equal_nan=True)"
   ]
  },
  {
   "cell_type": "markdown",
   "id": "45c1ab2a-1c19-4389-99c7-98a3b3ef9c3a",
   "metadata": {},
   "source": [
    "It is also possible set configuration of an action during initialization"
   ]
  },
  {
   "cell_type": "code",
   "execution_count": null,
   "id": "0cdfc76a-ba4f-4ba3-a5fe-73bca0a2b405",
   "metadata": {
    "execution": {
     "iopub.status.busy": "2023-12-23T13:44:01.585168Z",
     "iopub.status.idle": "2023-12-23T13:44:01.585312Z",
     "shell.execute_reply": "2023-12-23T13:44:01.585245Z",
     "shell.execute_reply.started": "2023-12-23T13:44:01.585239Z"
    },
    "tags": []
   },
   "outputs": [],
   "source": [
    "magConverterAlternate = ConvertFluxToMag(vectorKey='{band}_psfFlux')\n",
    "\n",
    "assert np.allclose(\n",
    "    magConverter(objectTable, band='i'), \n",
    "    magConverterAlternate(objectTable, band='i'), \n",
    "    equal_nan=True\n",
    ")"
   ]
  },
  {
   "cell_type": "markdown",
   "id": "82f0d329-e27d-40dc-ae70-b070261db8a6",
   "metadata": {},
   "source": [
    "Now make a plot"
   ]
  },
  {
   "cell_type": "code",
   "execution_count": null,
   "id": "6c22da3d-56af-40e8-ae23-26ed4c50cb5b",
   "metadata": {
    "execution": {
     "iopub.status.busy": "2023-12-23T13:44:01.585745Z",
     "iopub.status.idle": "2023-12-23T13:44:01.585941Z",
     "shell.execute_reply": "2023-12-23T13:44:01.585866Z",
     "shell.execute_reply.started": "2023-12-23T13:44:01.585859Z"
    },
    "tags": []
   },
   "outputs": [],
   "source": [
    "plt.figure()\n",
    "plt.scatter(mag, size, s=1)\n",
    "plt.xlim(17.5, 30.)\n",
    "plt.ylim(0, 5)\n",
    "plt.xlabel('mag')\n",
    "plt.ylabel('size')"
   ]
  },
  {
   "cell_type": "markdown",
   "id": "3812c7a4-7286-4b79-aa99-78597f71ff48",
   "metadata": {
    "execution": {
     "iopub.execute_input": "2023-05-04T01:38:05.230530Z",
     "iopub.status.busy": "2023-05-04T01:38:05.230271Z",
     "iopub.status.idle": "2023-05-04T01:38:05.233651Z",
     "shell.execute_reply": "2023-05-04T01:38:05.233123Z",
     "shell.execute_reply.started": "2023-05-04T01:38:05.230511Z"
    },
    "tags": []
   },
   "source": [
    "Let's remake that simple plot now selecting only the stars"
   ]
  },
  {
   "cell_type": "code",
   "execution_count": null,
   "id": "d119d2cc-546b-4ef7-a870-ec815ee3e0ab",
   "metadata": {
    "execution": {
     "iopub.status.busy": "2023-12-23T13:44:01.586496Z",
     "iopub.status.idle": "2023-12-23T13:44:01.586642Z",
     "shell.execute_reply": "2023-12-23T13:44:01.586576Z",
     "shell.execute_reply.started": "2023-12-23T13:44:01.586570Z"
    },
    "tags": []
   },
   "outputs": [],
   "source": [
    "from lsst.analysis.tools.actions.vector import StarSelector"
   ]
  },
  {
   "cell_type": "code",
   "execution_count": null,
   "id": "931d898f-3187-4c5f-a51a-1f19c31315bd",
   "metadata": {
    "execution": {
     "iopub.status.busy": "2023-12-23T13:44:01.587125Z",
     "iopub.status.idle": "2023-12-23T13:44:01.587278Z",
     "shell.execute_reply": "2023-12-23T13:44:01.587205Z",
     "shell.execute_reply.started": "2023-12-23T13:44:01.587198Z"
    },
    "tags": []
   },
   "outputs": [],
   "source": [
    "starSelection = StarSelector()(objectTable, band='i')"
   ]
  },
  {
   "cell_type": "code",
   "execution_count": null,
   "id": "1a3fb2e0-6ce3-411a-9ba5-8c3646c38693",
   "metadata": {
    "execution": {
     "iopub.status.busy": "2023-12-23T13:44:01.587728Z",
     "iopub.status.idle": "2023-12-23T13:44:01.587925Z",
     "shell.execute_reply": "2023-12-23T13:44:01.587851Z",
     "shell.execute_reply.started": "2023-12-23T13:44:01.587844Z"
    },
    "tags": []
   },
   "outputs": [],
   "source": [
    "plt.figure()\n",
    "plt.scatter(mag[starSelection], size.values[starSelection], s=1)\n",
    "plt.xlim(17.5, 30.)\n",
    "plt.ylim(0, 5)\n",
    "plt.xlabel('mag')\n",
    "plt.ylabel('size')"
   ]
  },
  {
   "cell_type": "markdown",
   "id": "486e2060-3d75-4b9f-af13-6938b3e1ce8e",
   "metadata": {},
   "source": [
    "We can chain together `AnalysisAction`s, as in the following example that produces an equivalent plot. The `analysis_tools` package frequently uses this approach of chaining together `AnalysisAction`s."
   ]
  },
  {
   "cell_type": "code",
   "execution_count": null,
   "id": "3b1c5fe7-421b-40af-8821-fb85f3d2c018",
   "metadata": {
    "execution": {
     "iopub.status.busy": "2023-12-23T13:44:01.588397Z",
     "iopub.status.idle": "2023-12-23T13:44:01.588548Z",
     "shell.execute_reply": "2023-12-23T13:44:01.588476Z",
     "shell.execute_reply.started": "2023-12-23T13:44:01.588470Z"
    },
    "tags": []
   },
   "outputs": [],
   "source": [
    "from lsst.analysis.tools.actions.vector import DownselectVector\n",
    "from lsst.analysis.tools.actions.keyedData import AddComputedVector\n",
    "\n",
    "band = \"i\"\n",
    "\n",
    "# Add a new key that points to a vector of \"size\" values\n",
    "objectTableDemo = AddComputedVector(action=CalcShapeSize, keyName=\"size\")(objectTable, band=band)\n",
    "\n",
    "# Note type(objectTable) is now a python dictionary instead of a pandas table, but since both\n",
    "# \"quack\" like KeyedData they can be used interchangably\n",
    "\n",
    "# Add a new key that points to a vector of \"mag\" values\n",
    "objectTableDemo = AddComputedVector(\n",
    "    action=ConvertFluxToMag(\n",
    "        vectorKey='{band}_psfFlux'\n",
    "    ),\n",
    "    keyName=\"mag\"\n",
    ")(objectTableDemo, band=band)\n",
    "\n",
    "# Example of a more explicit syntax\n",
    "downselector = DownselectVector()\n",
    "downselector.vectorKey = \"size\"\n",
    "downselector.selector = StarSelector\n",
    "size = downselector(objectTableDemo, band=band)\n",
    "\n",
    "# Example of a more compact syntax\n",
    "mag = DownselectVector(vectorKey=\"mag\", selector=StarSelector)(objectTableDemo, band=band)\n",
    "\n",
    "plt.figure()\n",
    "plt.scatter(mag, size, s=1)\n",
    "plt.xlim(17.5, 30.)\n",
    "plt.ylim(0, 5)\n",
    "plt.xlabel('mag')\n",
    "plt.ylabel('size')"
   ]
  },
  {
   "cell_type": "markdown",
   "id": "e072acd2-7460-4912-8eee-d1adeadbe9e4",
   "metadata": {},
   "source": [
    "### Actions as a generic interface for data\n",
    "Actions are not restricted to tables or products loaded from the butler, `KeyedData` could also be things like dictionaries of numpy arrays."
   ]
  },
  {
   "cell_type": "code",
   "execution_count": null,
   "id": "c1f9865c-9c9e-4e68-9840-e63f4fd5431b",
   "metadata": {
    "execution": {
     "iopub.status.busy": "2023-12-23T13:44:01.589019Z",
     "iopub.status.idle": "2023-12-23T13:44:01.589166Z",
     "shell.execute_reply": "2023-12-23T13:44:01.589099Z",
     "shell.execute_reply.started": "2023-12-23T13:44:01.589092Z"
    },
    "tags": []
   },
   "outputs": [],
   "source": [
    "import lsst.analysis.tools.actions\n",
    "dir(lsst.analysis.tools.actions)"
   ]
  },
  {
   "cell_type": "code",
   "execution_count": null,
   "id": "96c7a7b9-86c1-4fe5-94b3-e508aabc6e31",
   "metadata": {
    "execution": {
     "iopub.status.busy": "2023-12-23T13:44:01.589664Z",
     "iopub.status.idle": "2023-12-23T13:44:01.589815Z",
     "shell.execute_reply": "2023-12-23T13:44:01.589743Z",
     "shell.execute_reply.started": "2023-12-23T13:44:01.589736Z"
    },
    "tags": []
   },
   "outputs": [],
   "source": [
    "from lsst.analysis.tools.actions.scalar import StdevAction\n",
    "\n",
    "# create some KeyedData\n",
    "data = {\"randomData\": np.random.normal(0, 3, 10000)}\n",
    "\n",
    "# initialize an action, setting it to use the key set above\n",
    "action = StdevAction(vectorKey=\"randomData\")\n",
    "\n",
    "#plt.figure()\n",
    "#plt.hist(data[\"randomData\"], bins=100, density=True)\n",
    "\n",
    "# Run the action and print the results\n",
    "print(f\"The standard deviation is {action(data)}\")"
   ]
  },
  {
   "cell_type": "markdown",
   "id": "02d7771c-1d12-42f5-b439-273fce21683f",
   "metadata": {
    "execution": {
     "iopub.execute_input": "2023-05-04T05:19:13.011552Z",
     "iopub.status.busy": "2023-05-04T05:19:13.010913Z",
     "iopub.status.idle": "2023-05-04T05:19:13.013826Z",
     "shell.execute_reply": "2023-05-04T05:19:13.013369Z",
     "shell.execute_reply.started": "2023-05-04T05:19:13.011530Z"
    },
    "tags": []
   },
   "source": [
    "### Create a new action\n",
    "\n",
    "In the example below, we define a new VectorAction to multiply a vector by a scalar."
   ]
  },
  {
   "cell_type": "code",
   "execution_count": null,
   "id": "f6ee1f7b-e2b3-4c1d-b5c8-a0d409dbeff5",
   "metadata": {
    "execution": {
     "iopub.status.busy": "2023-12-23T13:44:01.590277Z",
     "iopub.status.idle": "2023-12-23T13:44:01.590427Z",
     "shell.execute_reply": "2023-12-23T13:44:01.590358Z",
     "shell.execute_reply.started": "2023-12-23T13:44:01.590352Z"
    },
    "tags": []
   },
   "outputs": [],
   "source": [
    "from lsst.analysis.tools.interfaces import VectorAction, KeyedData, KeyedDataSchema, Vector\n",
    "from lsst.pex.config import Field\n",
    "#rom lsstinterfaces import KeyedData, KeyedDataSchema\n",
    "\n",
    "class MultiplyByScalar(VectorAction):\n",
    "    \"\"\"Multiply vector by a scalar value\"\"\"\n",
    "\n",
    "    vectorKey = Field[str](doc=\"Key of vector which should be loaded\")\n",
    "    factor = Field[float](doc=\"Multiplicative factor\", default=1.)\n",
    "\n",
    "    def getInputSchema(self) -> KeyedDataSchema:\n",
    "        return ((self.vectorKey, Vector),)\n",
    "\n",
    "    def __call__(self, data: KeyedData, **kwargs) -> Vector:\n",
    "        return np.array(self.factor * data[self.vectorKey.format(**kwargs)])"
   ]
  },
  {
   "cell_type": "code",
   "execution_count": null,
   "id": "8b822cc7-8e40-4538-be49-84078187fbe0",
   "metadata": {
    "execution": {
     "iopub.status.busy": "2023-12-23T13:44:01.590817Z",
     "iopub.status.idle": "2023-12-23T13:44:01.590965Z",
     "shell.execute_reply": "2023-12-23T13:44:01.590898Z",
     "shell.execute_reply.started": "2023-12-23T13:44:01.590892Z"
    },
    "tags": []
   },
   "outputs": [],
   "source": [
    "action = MultiplyByScalar(vectorKey=\"randomData\", factor=2.)\n",
    "results = action(data)\n",
    "assert np.allclose(results, 2. * data['randomData'])"
   ]
  },
  {
   "cell_type": "markdown",
   "id": "166efc57-922d-41bf-a219-398717d1f576",
   "metadata": {},
   "source": [
    "### Three conceptual steps in an `AnalysisTool`: prep, process, produce\n",
    "\n",
    "As mentioned AnalysisTools can be thought of as executable containers of AnalysisActions. There are three different AnalysisActions, referred to as stages, named prep, process, and produce.\n",
    "* Prep: Responsible for any initial selection and filtering of data\n",
    "* Process: This is where any transformations and/or calculations are made\n",
    "* Produce: Generates final plot and/or metric objects\n",
    "\n",
    "The following examples will:\n",
    "* Walk through the three stages of running an analysis tool in sequential lines of code, passing the output of one step as input to the next step\n",
    "* Examine intermediate results"
   ]
  },
  {
   "cell_type": "code",
   "execution_count": null,
   "id": "0de63587-5da9-4263-975d-13d29597f963",
   "metadata": {
    "execution": {
     "iopub.status.busy": "2023-12-23T13:44:01.591477Z",
     "iopub.status.idle": "2023-12-23T13:44:01.591626Z",
     "shell.execute_reply": "2023-12-23T13:44:01.591558Z",
     "shell.execute_reply.started": "2023-12-23T13:44:01.591551Z"
    },
    "tags": []
   },
   "outputs": [],
   "source": [
    "prepResults = atool.prep(objectTable, band='i')\n",
    "processResults = atool.process(prepResults, band='i')\n",
    "produceResults = atool.produce(processResults, band='i', skymap=None, plotInfo=_StandinPlotInfo())"
   ]
  },
  {
   "cell_type": "markdown",
   "id": "40c20ca1-0cdd-478a-82de-e62d6784ed5e",
   "metadata": {},
   "source": [
    "Inspect the intermediate results"
   ]
  },
  {
   "cell_type": "code",
   "execution_count": null,
   "id": "a58b7c8c-43db-4950-9f3d-92e57fdaddc3",
   "metadata": {
    "execution": {
     "iopub.status.busy": "2023-12-23T13:44:01.592134Z",
     "iopub.status.idle": "2023-12-23T13:44:01.592282Z",
     "shell.execute_reply": "2023-12-23T13:44:01.592214Z",
     "shell.execute_reply.started": "2023-12-23T13:44:01.592208Z"
    },
    "tags": []
   },
   "outputs": [],
   "source": [
    "prepResults"
   ]
  },
  {
   "cell_type": "code",
   "execution_count": null,
   "id": "1d1f8767-927b-480e-a53f-c27de41d8949",
   "metadata": {
    "execution": {
     "iopub.status.busy": "2023-12-23T13:44:01.592627Z",
     "iopub.status.idle": "2023-12-23T13:44:01.592829Z",
     "shell.execute_reply": "2023-12-23T13:44:01.592747Z",
     "shell.execute_reply.started": "2023-12-23T13:44:01.592740Z"
    },
    "tags": []
   },
   "outputs": [],
   "source": [
    "processResults"
   ]
  },
  {
   "cell_type": "markdown",
   "id": "aa126f70-ba67-4d41-a86f-2534f66be0bf",
   "metadata": {
    "execution": {
     "iopub.execute_input": "2023-05-04T01:51:31.319631Z",
     "iopub.status.busy": "2023-05-04T01:51:31.319043Z",
     "iopub.status.idle": "2023-05-04T01:51:31.321813Z",
     "shell.execute_reply": "2023-05-04T01:51:31.321442Z",
     "shell.execute_reply.started": "2023-05-04T01:51:31.319614Z"
    },
    "tags": []
   },
   "source": [
    "## Workflow examples"
   ]
  },
  {
   "cell_type": "markdown",
   "id": "f7c90e82-a6e3-4948-9deb-c22e9f17a8a2",
   "metadata": {},
   "source": [
    "### Running analysis_tools as part of a pipeline\n",
    "\n",
    "* **All examples in this notebook should use the simple pipeline executor** (here is how you do it in a notebook)\n",
    "* We have a PipelineTask for each data product. A task can run multiple AnalysisTools that each produce a set of plots or set of metrics and are subclasses of AnalysisPipelineTask.\n",
    "* Discuss an example yaml pipeline file (load the yaml)\n",
    "* Provide the command to run the pipeline\n",
    "* Show how to configure the pipeline, e.g., turning on or off different metrics and plots or changing other parameters"
   ]
  },
  {
   "cell_type": "markdown",
   "id": "034775fb-763c-4c19-a414-8bbbff46167d",
   "metadata": {},
   "source": [
    "**WARNING:** If you are using your own processed instance of rc_subset, run the following cells to run analysis_tools as part of a pipeline from the notebook. If you are pointing to a shared sandbox instance of rc2_subset, skip the remaining cells in this section."
   ]
  },
  {
   "cell_type": "code",
   "execution_count": null,
   "id": "f8e697f5-7b3f-4d2e-a160-6fb065823ba3",
   "metadata": {
    "execution": {
     "iopub.status.busy": "2023-12-23T13:44:01.593289Z",
     "iopub.status.idle": "2023-12-23T13:44:01.593436Z",
     "shell.execute_reply": "2023-12-23T13:44:01.593368Z",
     "shell.execute_reply.started": "2023-12-23T13:44:01.593362Z"
    },
    "tags": []
   },
   "outputs": [],
   "source": [
    "if not SANDBOX_REPO:\n",
    "    from lsst.ctrl.mpexec import SimplePipelineExecutor\n",
    "    from lsst.pipe.base import Pipeline\n",
    "\n",
    "    # set up an output collection with your username\n",
    "    analysisToolsCollection = \"u/%s/analysisToolsExample\"%os.environ['USER']\n",
    "\n",
    "    # this can be skipped if you already have a read writable butler setup (above is read only)\n",
    "    butlerRW = SimplePipelineExecutor.prep_butler(repo, inputs=collections, output=analysisToolsCollection)\n",
    "\n",
    "    # load in the pipeline to run\n",
    "    pipeline = Pipeline.from_uri(\"$ANALYSIS_TOOLS_DIR/pipelines/coaddQualityCore.yaml\")\n",
    "\n",
    "    # override a configuration within a certain AnalysisTool\n",
    "    # configKey = \"atools.shapeSizeFractionalDiff.prep.selectors.snSelector.threshold\"\n",
    "    # pipeline.addConfigOverride(\"analyzeObjectTableCore\", configKey, 400)\n",
    "\n",
    "    # Run only the PSF size residual tool\n",
    "    pipeline.addConfigOverride(\"analyzeObjectTableCore\", \"atools\", None)\n",
    "    pipeline.addConfigOverride(\"analyzeObjectTableCore\", \"atools.shapeSizeFractionalDiff\", ShapeSizeFractionalDiff)\n",
    "\n",
    "    # bands = ['g', 'r', 'i', 'z']\n",
    "    bands = ['i']\n",
    "    pipeline.addConfigOverride(\"analyzeObjectTableCore\", \"bands\", bands)\n",
    "    pipeline.addConfigOverride(\"catalogMatchTract\", \"bands\", bands)\n",
    "    pipeline.addConfigOverride(\"refCatObjectTract\", \"bands\", bands)\n",
    "\n",
    "    # restrict processing to the same dataId used above\n",
    "    whereString = \"tract = 9813 AND skymap = 'hsc_rings_v1'\""
   ]
  },
  {
   "cell_type": "markdown",
   "id": "82652abd-f938-4a98-8f67-0eebe77324a6",
   "metadata": {},
   "source": [
    "Display the pipeline that is about to be run"
   ]
  },
  {
   "cell_type": "code",
   "execution_count": null,
   "id": "0044cb7f-df8d-4c3f-8261-df46178f912e",
   "metadata": {
    "execution": {
     "iopub.status.busy": "2023-12-23T13:44:01.593925Z",
     "iopub.status.idle": "2023-12-23T13:44:01.594074Z",
     "shell.execute_reply": "2023-12-23T13:44:01.594005Z",
     "shell.execute_reply.started": "2023-12-23T13:44:01.593999Z"
    },
    "tags": []
   },
   "outputs": [],
   "source": [
    "if not SANDBOX_REPO:\n",
    "    print(pipeline)"
   ]
  },
  {
   "cell_type": "code",
   "execution_count": null,
   "id": "d65aa110-38a8-4c41-9386-14222517a2ba",
   "metadata": {
    "execution": {
     "iopub.status.busy": "2023-12-23T13:44:01.594433Z",
     "iopub.status.idle": "2023-12-23T13:44:01.594575Z",
     "shell.execute_reply": "2023-12-23T13:44:01.594509Z",
     "shell.execute_reply.started": "2023-12-23T13:44:01.594502Z"
    },
    "tags": []
   },
   "outputs": [],
   "source": [
    "if not SANDBOX_REPO:\n",
    "    # Prevent the executor from dumping plots into the notebook\n",
    "    backend_ =  mpl.get_backend() \n",
    "    mpl.use(\"Agg\")\n",
    "\n",
    "    executor = SimplePipelineExecutor.from_pipeline(pipeline, where=whereString, butler=butlerRW)\n",
    "    quanta = executor.run(True)\n",
    "\n",
    "    # Restore the ability for plots to be put into the notebook\n",
    "    mpl.use(backend_)"
   ]
  },
  {
   "cell_type": "code",
   "execution_count": null,
   "id": "0d9009ec-38b0-4c67-954b-899974fd32f1",
   "metadata": {
    "execution": {
     "iopub.status.busy": "2023-12-23T13:44:01.595055Z",
     "iopub.status.idle": "2023-12-23T13:44:01.595202Z",
     "shell.execute_reply": "2023-12-23T13:44:01.595135Z",
     "shell.execute_reply.started": "2023-12-23T13:44:01.595129Z"
    },
    "tags": []
   },
   "outputs": [],
   "source": [
    "if not SANDBOX_REPO:\n",
    "    # Refresh our read-only butler to see the changes made. (It's generally a\n",
    "    # good idea to work on read-only things)\n",
    "    butler.registry.refresh()"
   ]
  },
  {
   "cell_type": "markdown",
   "id": "ffb24d5d-13f9-4c37-9f75-969b49eef233",
   "metadata": {},
   "source": [
    "## Access persisted metrics"
   ]
  },
  {
   "cell_type": "markdown",
   "id": "aeb1f09c-165b-41fa-8544-a2aaa44d5b6f",
   "metadata": {},
   "source": [
    "Specify the collection that holds the results of running analysis_tools. If you are pointing to your own instance of rc2_subset, you did this already above prior to running the pipeline and the cell below is not needed."
   ]
  },
  {
   "cell_type": "code",
   "execution_count": null,
   "id": "4ac51e0e-2ea4-48ea-881d-76f5bd5fbdc7",
   "metadata": {
    "execution": {
     "iopub.status.busy": "2023-12-23T13:44:01.595646Z",
     "iopub.status.idle": "2023-12-23T13:44:01.595788Z",
     "shell.execute_reply": "2023-12-23T13:44:01.595722Z",
     "shell.execute_reply.started": "2023-12-23T13:44:01.595716Z"
    },
    "tags": []
   },
   "outputs": [],
   "source": [
    "if SANDBOX_REPO:\n",
    "    # The following is not needed if you are pointing to your own instance of rc2_subset\n",
    "    analysisToolsCollection = \"u/bechtol/analysisToolsExample\""
   ]
  },
  {
   "cell_type": "markdown",
   "id": "c474ece0-6b8b-4e8c-989e-db23e23c8827",
   "metadata": {},
   "source": [
    "Check what dataset types exist in the new collection."
   ]
  },
  {
   "cell_type": "code",
   "execution_count": null,
   "id": "718585b6-757e-4de5-a3e1-ebfdc16e8164",
   "metadata": {
    "execution": {
     "iopub.status.busy": "2023-12-23T13:44:01.596293Z",
     "iopub.status.idle": "2023-12-23T13:44:01.596440Z",
     "shell.execute_reply": "2023-12-23T13:44:01.596370Z",
     "shell.execute_reply.started": "2023-12-23T13:44:01.596364Z"
    },
    "tags": []
   },
   "outputs": [],
   "source": [
    "# See what datasets exist; there should now be objectTableCore_metrics\n",
    "for datasetType in registry.queryDatasetTypes():\n",
    "    if registry.queryDatasets(datasetType, collections=analysisToolsCollection).any(execute=False, exact=False):\n",
    "        print(datasetType)"
   ]
  },
  {
   "cell_type": "markdown",
   "id": "24e88923-cc4f-4cfc-93ea-7f89f5620236",
   "metadata": {},
   "source": [
    "Access the persisted metrics."
   ]
  },
  {
   "cell_type": "code",
   "execution_count": null,
   "id": "0a790bf8-a35b-44b0-8fa8-8640cc434506",
   "metadata": {
    "execution": {
     "iopub.status.busy": "2023-12-23T13:44:01.596960Z",
     "iopub.status.idle": "2023-12-23T13:44:01.597106Z",
     "shell.execute_reply": "2023-12-23T13:44:01.597038Z",
     "shell.execute_reply.started": "2023-12-23T13:44:01.597032Z"
    },
    "tags": []
   },
   "outputs": [],
   "source": [
    "# Get the metric that was written\n",
    "print(analysisToolsCollection)\n",
    "refs = sorted(butler.registry.queryDatasets(\"objectTableCore_metrics\", collections=analysisToolsCollection))\n",
    "pprint(refs)\n",
    "dataId = refs[-1].dataId\n",
    "print(dataId)\n",
    "print(refs[-1].run)\n",
    "objectTable_metrics = butler.get(\"objectTableCore_metrics\", dataId=dataId, collections=analysisToolsCollection)\n",
    "pprint(objectTable_metrics)"
   ]
  },
  {
   "cell_type": "markdown",
   "id": "1373184e-244f-4be7-ace0-9bee74833895",
   "metadata": {},
   "source": [
    "Also, we can see that a plot has been persisted, but there isn't a way to visualize the plot from the notebook. In the next section, we'll use the `reconstructor` to recreate the plot in the notebook."
   ]
  },
  {
   "cell_type": "code",
   "execution_count": null,
   "id": "67690e31-e5d6-4013-944e-21c5a93e7b93",
   "metadata": {
    "execution": {
     "iopub.status.busy": "2023-12-23T13:44:01.597714Z",
     "iopub.status.idle": "2023-12-23T13:44:01.597870Z",
     "shell.execute_reply": "2023-12-23T13:44:01.597793Z",
     "shell.execute_reply.started": "2023-12-23T13:44:01.597787Z"
    },
    "tags": []
   },
   "outputs": [],
   "source": [
    "refs = sorted(butler.registry.queryDatasets(\n",
    "    \"objectTableCore_i_shapeSizeFractionalDiff_ScatterPlotWithTwoHists\", \n",
    "    collections=analysisToolsCollection)\n",
    ")\n",
    "print(refs[0])\n",
    "\n",
    "# The following line will throw an error\n",
    "# plot = butler.get(\n",
    "#     \"objectTableCore_i_shapeSizeFractionalDiff_ScatterPlotWithTwoHists\",\n",
    "#     dataId=refs[0].dataId,\n",
    "#     collections=analysisToolsCollection\n",
    "# )"
   ]
  },
  {
   "cell_type": "markdown",
   "id": "b1c00f34-bef0-4f9b-be9a-b5d82974674f",
   "metadata": {},
   "source": [
    "### Reconstruct the inputs to an `AnalysisTool`\n",
    "\n",
    "Analysis(Tools/Actions) allow the exact state of `AnalysisTool`s to be saved into the Butler when a pipeline is run. This allows a user to 'reconstruct' things as they were when the tools were executed. This aids in debugging and deep diving into the data.\n",
    "\n",
    "Below is an example of reconstructing one of the tasks that was run in the Pipeline above."
   ]
  },
  {
   "cell_type": "code",
   "execution_count": null,
   "id": "1569bb6f-6dd7-4619-969a-1d4f9dd0bd3e",
   "metadata": {
    "execution": {
     "iopub.status.busy": "2023-12-23T13:44:01.598233Z",
     "iopub.status.idle": "2023-12-23T13:44:01.598377Z",
     "shell.execute_reply": "2023-12-23T13:44:01.598309Z",
     "shell.execute_reply.started": "2023-12-23T13:44:01.598303Z"
    },
    "tags": []
   },
   "outputs": [],
   "source": [
    "from lsst.analysis.tools.tasks.reconstructor import reconstructAnalysisTools\n",
    "\n",
    "# Read in just one task\n",
    "label = \"analyzeObjectTableCore\"\n",
    "taskState, inputData = reconstructAnalysisTools(butler, \n",
    "                                                collection=analysisToolsCollection, \n",
    "                                                label=label, \n",
    "                                                dataId=dataId, \n",
    "                                                callback=None\n",
    ")"
   ]
  },
  {
   "cell_type": "markdown",
   "id": "f03c96a9-d8a7-4a04-9461-8160779c3692",
   "metadata": {},
   "source": [
    "We have access to the exact configuration that was used to run the analysis tools."
   ]
  },
  {
   "cell_type": "code",
   "execution_count": null,
   "id": "ccc4d194-e979-4f5e-a7e7-7709c4b9a56c",
   "metadata": {
    "execution": {
     "iopub.status.busy": "2023-12-23T13:44:01.598869Z",
     "iopub.status.idle": "2023-12-23T13:44:01.599076Z",
     "shell.execute_reply": "2023-12-23T13:44:01.599002Z",
     "shell.execute_reply.started": "2023-12-23T13:44:01.598995Z"
    },
    "tags": []
   },
   "outputs": [],
   "source": [
    "pprint(taskState.toDict())"
   ]
  },
  {
   "cell_type": "markdown",
   "id": "fba7df8d-39a6-4eb8-8658-bc62ea8e3b63",
   "metadata": {},
   "source": [
    "We also have access to the input data that were used to produce the diagnostics, in this case, the object table."
   ]
  },
  {
   "cell_type": "code",
   "execution_count": null,
   "id": "2912a99c-b963-499c-a413-0dca8c869290",
   "metadata": {
    "execution": {
     "iopub.status.busy": "2023-12-23T13:44:01.599549Z",
     "iopub.status.idle": "2023-12-23T13:44:01.599697Z",
     "shell.execute_reply": "2023-12-23T13:44:01.599628Z",
     "shell.execute_reply.started": "2023-12-23T13:44:01.599622Z"
    },
    "tags": []
   },
   "outputs": [],
   "source": [
    "inputData[\"data\"]"
   ]
  },
  {
   "cell_type": "markdown",
   "id": "b8598951-1c6c-4773-aab9-dddafbe1561b",
   "metadata": {},
   "source": [
    "Quick check to verify that the object table data are indeed the same."
   ]
  },
  {
   "cell_type": "code",
   "execution_count": null,
   "id": "c8c838cb-ca4e-4603-af90-3af2b5527774",
   "metadata": {
    "execution": {
     "iopub.status.busy": "2023-12-23T13:44:01.600069Z",
     "iopub.status.idle": "2023-12-23T13:44:01.600268Z",
     "shell.execute_reply": "2023-12-23T13:44:01.600196Z",
     "shell.execute_reply.started": "2023-12-23T13:44:01.600189Z"
    },
    "tags": []
   },
   "outputs": [],
   "source": [
    "assert np.allclose(inputData[\"data\"]['coord_ra'], objectTable['coord_ra'])"
   ]
  },
  {
   "cell_type": "markdown",
   "id": "e908a5e2-b9c8-4e48-b069-54ff1ecaac26",
   "metadata": {},
   "source": [
    "We can now reproduce diagnostic metrics and plots interactively in the notebook"
   ]
  },
  {
   "cell_type": "code",
   "execution_count": null,
   "id": "f6877c94-35a8-433e-b3b8-c51d48ad0f30",
   "metadata": {
    "execution": {
     "iopub.status.busy": "2023-12-23T13:44:01.600780Z",
     "iopub.status.idle": "2023-12-23T13:44:01.600931Z",
     "shell.execute_reply": "2023-12-23T13:44:01.600864Z",
     "shell.execute_reply.started": "2023-12-23T13:44:01.600857Z"
    },
    "tags": []
   },
   "outputs": [],
   "source": [
    "# The following configuration won't be needed in the future\n",
    "taskState.atools.shapeSizeFractionalDiff.produce.plot.addSummaryPlot = False\n",
    "\n",
    "taskState.atools.shapeSizeFractionalDiff(\n",
    "    inputData['data'],\n",
    "    band='i',\n",
    "    skymap=None,\n",
    "    plotInfo=_StandinPlotInfo()\n",
    ")"
   ]
  },
  {
   "cell_type": "markdown",
   "id": "52b0701d-8753-45dc-a786-5986cb834c82",
   "metadata": {},
   "source": [
    "Next, we change one of the configuration parameters to see how the results change. \n",
    "\n",
    "In this example, we raise the signal-to-noise threshold to 200. Notice that the metric values and plot change with this updated object selection criteria."
   ]
  },
  {
   "cell_type": "code",
   "execution_count": null,
   "id": "a9ec74c4-429c-4d76-8b16-7859b283a8a3",
   "metadata": {
    "execution": {
     "iopub.status.busy": "2023-12-23T13:44:01.601423Z",
     "iopub.status.idle": "2023-12-23T13:44:01.601569Z",
     "shell.execute_reply": "2023-12-23T13:44:01.601504Z",
     "shell.execute_reply.started": "2023-12-23T13:44:01.601497Z"
    },
    "tags": []
   },
   "outputs": [],
   "source": [
    "# change some configuration to see the differences\n",
    "taskState.atools.shapeSizeFractionalDiff.prep.selectors.snSelector.threshold = 200\n",
    "taskState.atools.shapeSizeFractionalDiff(\n",
    "    inputData['data'],\n",
    "    band='i',\n",
    "    skymap=None,\n",
    "    plotInfo=_StandinPlotInfo()\n",
    ")"
   ]
  },
  {
   "cell_type": "markdown",
   "id": "8a40cf10-9df9-472d-b656-fd99dba20c4a",
   "metadata": {},
   "source": [
    "As before, we can also step through the calculation to check intermediate steps."
   ]
  },
  {
   "cell_type": "code",
   "execution_count": null,
   "id": "687feae9-6996-449d-b7a7-b12ba71d2791",
   "metadata": {
    "execution": {
     "iopub.status.busy": "2023-12-23T13:44:01.602006Z",
     "iopub.status.idle": "2023-12-23T13:44:01.602161Z",
     "shell.execute_reply": "2023-12-23T13:44:01.602090Z",
     "shell.execute_reply.started": "2023-12-23T13:44:01.602083Z"
    },
    "tags": []
   },
   "outputs": [],
   "source": [
    "prepResults = taskState.atools.shapeSizeFractionalDiff.prep(objectTable, band='i')\n",
    "processResults = taskState.atools.shapeSizeFractionalDiff.process(prepResults, band='i')\n",
    "produceResults = taskState.atools.shapeSizeFractionalDiff.produce(processResults, band='i', skymap=None, plotInfo=_StandinPlotInfo())"
   ]
  },
  {
   "cell_type": "markdown",
   "id": "7a5a688a-bb97-4ac3-87b1-a69ed2d5371f",
   "metadata": {},
   "source": [
    "## Create a new analysis tool\n",
    "\n",
    "Example `AnalysisTool`s can be found in the [atools](https://github.com/lsst/analysis_tools/tree/main/python/lsst/analysis/tools/atools) directory of the package.\n",
    "\n",
    "Now let's create our own `AnalysisTool`"
   ]
  },
  {
   "cell_type": "code",
   "execution_count": null,
   "id": "52a4ea7c-cc92-425f-89de-f85b9847c42a",
   "metadata": {
    "execution": {
     "iopub.status.busy": "2023-12-23T13:44:01.602756Z",
     "iopub.status.idle": "2023-12-23T13:44:01.602934Z",
     "shell.execute_reply": "2023-12-23T13:44:01.602850Z",
     "shell.execute_reply.started": "2023-12-23T13:44:01.602841Z"
    },
    "tags": []
   },
   "outputs": [],
   "source": [
    "from lsst.analysis.tools.interfaces import AnalysisTool\n",
    "from lsst.analysis.tools.actions.scalar import MedianAction, CountAction\n",
    "from lsst.analysis.tools.actions.vector import SnSelector\n",
    "\n",
    "\n",
    "class DemoTool(AnalysisTool):\n",
    "    #parameterizedBand: bool = False\n",
    "    \n",
    "    def setDefaults(self):\n",
    "        super().setDefaults()\n",
    "        \n",
    "        # select on high signal to noise obejcts\n",
    "        # add in a signal to noise selector\n",
    "        self.prep.selectors.snSelector = SnSelector()\n",
    "        \n",
    "        # set what key the selector should use when deciding SNR\n",
    "        self.prep.selectors.snSelector.fluxType = \"psfFlux\"\n",
    "        \n",
    "        # select what threshold value is desireable for the selector\n",
    "        self.prep.selectors.snSelector.threshold = 10\n",
    "        \n",
    "        # the final name in the qualification is used as a key to insert\n",
    "        # the calculation into KeyedData\n",
    "        self.process.calculateActions.median = MedianAction()\n",
    "        self.process.calculateActions.median.vectorKey = \"psfFlux\"\n",
    "        self.process.calculateActions.count = CountAction()\n",
    "        self.process.calculateActions.count.vectorKey = \"psfFlux\"\n",
    "        \n",
    "        # tell the metic what the units are for the quantity\n",
    "        self.produce.metric.units = {\"median\": \"Jy\",\n",
    "                                     \"count\": \"count\"}\n",
    "        \n",
    "        # Rename the quanity prior to producing the Metric\n",
    "        # (useful for resuable workflows that set a name toward the end of computation)\n",
    "        # self.produce.metric.newNames = {\"medianValueName\": \"DemoMetric\"}"
   ]
  },
  {
   "cell_type": "markdown",
   "id": "cfc314fb-6312-49c5-b34e-de2641e0d109",
   "metadata": {},
   "source": [
    "Examine the configuration of our new tool"
   ]
  },
  {
   "cell_type": "code",
   "execution_count": null,
   "id": "b6ea7b18-81fe-4427-8f0f-813b8be89256",
   "metadata": {
    "execution": {
     "iopub.status.busy": "2023-12-23T13:44:01.603304Z",
     "iopub.status.idle": "2023-12-23T13:44:01.603449Z",
     "shell.execute_reply": "2023-12-23T13:44:01.603381Z",
     "shell.execute_reply.started": "2023-12-23T13:44:01.603375Z"
    },
    "tags": []
   },
   "outputs": [],
   "source": [
    "DemoTool().toDict()"
   ]
  },
  {
   "cell_type": "markdown",
   "id": "72bd6355-e71c-4548-82da-6a68d72a91a9",
   "metadata": {},
   "source": [
    "Make some synthetic data"
   ]
  },
  {
   "cell_type": "code",
   "execution_count": null,
   "id": "eea5ed3d-860c-4670-b509-241d20fc5b43",
   "metadata": {
    "execution": {
     "iopub.status.busy": "2023-12-23T13:44:01.603866Z",
     "iopub.status.idle": "2023-12-23T13:44:01.604011Z",
     "shell.execute_reply": "2023-12-23T13:44:01.603944Z",
     "shell.execute_reply.started": "2023-12-23T13:44:01.603938Z"
    },
    "tags": []
   },
   "outputs": [],
   "source": [
    "# Make some synthetic data\n",
    "size = 500\n",
    "flux = np.logspace(1., 4., size)\n",
    "fluxErr = np.sqrt(flux)\n",
    "flux += np.random.normal(0, np.sqrt(flux), size)\n",
    "data = {\"psfFlux\": flux, \"psfFluxErr\": fluxErr}\n",
    "\n",
    "plt.figure()\n",
    "plt.xscale('log')\n",
    "plt.yscale('log')\n",
    "plt.scatter(data['psfFlux'], data['psfFluxErr'])\n",
    "plt.xlabel('psfFlux')\n",
    "plt.ylabel('psfFluxErr')"
   ]
  },
  {
   "cell_type": "markdown",
   "id": "78795035-d65b-4349-8311-95ca916f9479",
   "metadata": {},
   "source": [
    "Run the new analysis tool."
   ]
  },
  {
   "cell_type": "code",
   "execution_count": null,
   "id": "2afd643a-97b2-4e46-9b8f-4ba74e3c82a0",
   "metadata": {
    "execution": {
     "iopub.status.busy": "2023-12-23T13:44:01.604447Z",
     "iopub.status.idle": "2023-12-23T13:44:01.604589Z",
     "shell.execute_reply": "2023-12-23T13:44:01.604523Z",
     "shell.execute_reply.started": "2023-12-23T13:44:01.604517Z"
    },
    "tags": []
   },
   "outputs": [],
   "source": [
    "demoTool = DemoTool()\n",
    "demoTool.populatePrepFromProcess()\n",
    "\n",
    "# We can configure as needed\n",
    "demoTool.prep.selectors.snSelector.threshold = 50\n",
    "\n",
    "demoTool(data)"
   ]
  },
  {
   "cell_type": "markdown",
   "id": "a570e5ab-f6cb-4622-b40f-a5404b70ddc6",
   "metadata": {},
   "source": [
    "We can inspect intermediate stages of the analysis."
   ]
  },
  {
   "cell_type": "code",
   "execution_count": null,
   "id": "d76aea13-d00b-4da9-8ee0-73848cc39d4e",
   "metadata": {
    "execution": {
     "iopub.status.busy": "2023-12-23T13:44:01.604996Z",
     "iopub.status.idle": "2023-12-23T13:44:01.605139Z",
     "shell.execute_reply": "2023-12-23T13:44:01.605074Z",
     "shell.execute_reply.started": "2023-12-23T13:44:01.605068Z"
    },
    "tags": []
   },
   "outputs": [],
   "source": [
    "# Example: how many of the data points pass the SNR threshold?\n",
    "len(demoTool.prep(data)['psfFlux'])"
   ]
  },
  {
   "cell_type": "code",
   "execution_count": null,
   "id": "7e4b5ed1-20ae-4a34-af96-7fdb27811764",
   "metadata": {},
   "outputs": [],
   "source": []
  }
 ],
 "metadata": {
  "kernelspec": {
   "display_name": "LSST",
   "language": "python",
   "name": "lsst"
  },
  "language_info": {
   "codemirror_mode": {
    "name": "ipython",
    "version": 3
   },
   "file_extension": ".py",
   "mimetype": "text/x-python",
   "name": "python",
   "nbconvert_exporter": "python",
   "pygments_lexer": "ipython3",
   "version": "3.11.4"
  }
 },
 "nbformat": 4,
 "nbformat_minor": 5
}
